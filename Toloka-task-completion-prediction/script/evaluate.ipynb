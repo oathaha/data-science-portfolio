{
 "cells": [
  {
   "cell_type": "markdown",
   "metadata": {},
   "source": [
    "# Import library"
   ]
  },
  {
   "cell_type": "code",
   "execution_count": 7,
   "metadata": {},
   "outputs": [],
   "source": [
    "import os, pickle, json\n",
    "\n",
    "import pandas as pd\n",
    "\n",
    "from sklearn.metrics import mean_squared_error, mean_absolute_error\n",
    "\n",
    "from sklearn.linear_model import LinearRegression, Ridge, Lasso, ElasticNet\n",
    "from sklearn.ensemble import  AdaBoostRegressor, BaggingRegressor"
   ]
  },
  {
   "cell_type": "markdown",
   "metadata": {},
   "source": [
    "# Load test set"
   ]
  },
  {
   "cell_type": "code",
   "execution_count": 4,
   "metadata": {},
   "outputs": [
    {
     "name": "stdout",
     "output_type": "stream",
     "text": [
      "load data finished\n",
      "------------------------------\n",
      "prepare data finished\n",
      "------------------------------\n"
     ]
    }
   ],
   "source": [
    "df = pd.read_csv('../dataset/cleaned/test_processed_df.csv')\n",
    "\n",
    "print('load data finished')\n",
    "print('-'*30)\n",
    "\n",
    "df = df.reset_index()\n",
    "\n",
    "\n",
    "y = df['completion-time-in-minutes']\n",
    "x = df.drop(['completion-time-in-minutes', 'index'], axis=1)\n",
    "\n",
    "print('prepare data finished')\n",
    "print('-'*30)\n",
    "print('total test set:', len(x))"
   ]
  },
  {
   "cell_type": "markdown",
   "metadata": {},
   "source": [
    "# Evaluation\n",
    "\n",
    "To evaluate the model, mean squared error (MSE) and mean absolute error (MAE) are measured."
   ]
  },
  {
   "cell_type": "code",
   "execution_count": 5,
   "metadata": {},
   "outputs": [],
   "source": [
    "model_dir = '../model/'\n",
    "\n",
    "def evaluate(model_name):\n",
    "\n",
    "    print('evaluating model', model_name)\n",
    "\n",
    "    with open(os.path.join(model_dir, model_name, 'model.pkl'), 'rb') as f:\n",
    "        model = pickle.load(f)\n",
    "\n",
    "    ## just for the case that linear regression is evaluated\n",
    "    try:\n",
    "        with open(os.path.join(model_dir, model_name, 'best_params.json'), 'r') as f:\n",
    "            best_params = json.load(f)\n",
    "\n",
    "        \n",
    "        print('best params')\n",
    "\n",
    "        for k,v in best_params.items():\n",
    "            print('  {}:{}'.format(k,v))\n",
    "    except:\n",
    "        pass\n",
    "\n",
    "    pred = model.predict(x)\n",
    "\n",
    "    mse = mean_squared_error(y, pred)\n",
    "    mae = mean_absolute_error(y, pred)\n",
    "\n",
    "    print('mean squared error:', round(mse,2))\n",
    "    print('mean absolute error:', round(mae,2))\n",
    "    print('-'*30)"
   ]
  },
  {
   "cell_type": "code",
   "execution_count": null,
   "metadata": {},
   "outputs": [],
   "source": [
    "evaluate('LinearRegression')"
   ]
  },
  {
   "cell_type": "code",
   "execution_count": 8,
   "metadata": {},
   "outputs": [
    {
     "name": "stdout",
     "output_type": "stream",
     "text": [
      "evaluating model Lasso\n",
      "best params\n",
      "  alpha:1\n",
      "  max_iter:100\n",
      "mean squared error: 2592.24\n",
      "mean absolute error: 2.69\n",
      "------------------------------\n"
     ]
    }
   ],
   "source": [
    "evaluate('Lasso')"
   ]
  },
  {
   "cell_type": "code",
   "execution_count": null,
   "metadata": {},
   "outputs": [],
   "source": []
  }
 ],
 "metadata": {
  "kernelspec": {
   "display_name": "env_oat",
   "language": "python",
   "name": "python3"
  },
  "language_info": {
   "codemirror_mode": {
    "name": "ipython",
    "version": 3
   },
   "file_extension": ".py",
   "mimetype": "text/x-python",
   "name": "python",
   "nbconvert_exporter": "python",
   "pygments_lexer": "ipython3",
   "version": "3.8.17"
  }
 },
 "nbformat": 4,
 "nbformat_minor": 2
}
