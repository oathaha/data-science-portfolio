{
 "cells": [
  {
   "cell_type": "markdown",
   "metadata": {},
   "source": [
    "# Data cleaning in PySpark"
   ]
  },
  {
   "cell_type": "markdown",
   "metadata": {},
   "source": [
    "## Import library"
   ]
  },
  {
   "cell_type": "code",
   "execution_count": 31,
   "metadata": {},
   "outputs": [],
   "source": [
    "from pyspark.sql import SparkSession\n",
    "from pyspark.sql.functions import from_unixtime, col, isnan, when, count, to_date, unix_timestamp, date_format, to_timestamp, lit\n",
    "\n",
    "from pyspark.sql.functions import round as spark_round\n",
    "from pyspark.sql.functions import split as spark_split\n",
    "\n",
    "import pandas as pd\n",
    "from tqdm import  tqdm\n",
    "\n",
    "import os, sys\n",
    "\n",
    "os.environ['PYSPARK_PYTHON'] = sys.executable\n",
    "os.environ['PYSPARK_DRIVER_PYTHON'] = sys.executable"
   ]
  },
  {
   "cell_type": "markdown",
   "metadata": {},
   "source": [
    "## Load Spark session"
   ]
  },
  {
   "cell_type": "code",
   "execution_count": 2,
   "metadata": {},
   "outputs": [
    {
     "name": "stderr",
     "output_type": "stream",
     "text": [
      "Setting default log level to \"WARN\".\n",
      "To adjust logging level use sc.setLogLevel(newLevel). For SparkR, use setLogLevel(newLevel).\n",
      "24/08/01 15:36:01 WARN NativeCodeLoader: Unable to load native-hadoop library for your platform... using builtin-java classes where applicable\n"
     ]
    }
   ],
   "source": [
    "spark = SparkSession.builder.master(\"local[*]\").config(\"spark.driver.memory\", \"15g\").config(\"spark.driver.maxResultSize\", \"8g\").getOrCreate()"
   ]
  },
  {
   "cell_type": "markdown",
   "metadata": {},
   "source": [
    "## Load dataset"
   ]
  },
  {
   "cell_type": "code",
   "execution_count": 3,
   "metadata": {},
   "outputs": [
    {
     "name": "stdout",
     "output_type": "stream",
     "text": [
      "+---------------------------+-------------------+--------------------+----------------+---------------------+---------------------+-----------------+----------------------+---------------+-----------------+----------------+---------+--------------------+\n",
      "|assignment_gs_correct_count|assignment_gs_count|       assignment_id|assignment_price|assignment_project_id|assignment_start_time|assignment_status|assignment_submit_time|assignment_type|  device_category|microtasks_count|os_family|             user_id|\n",
      "+---------------------------+-------------------+--------------------+----------------+---------------------+---------------------+-----------------+----------------------+---------------+-----------------+----------------+---------+--------------------+\n",
      "|                         13|                 15|fe52c68a-48ec-483...|             0.0|                   14|           1538145644|         APPROVED|            1538145992|          train|PERSONAL_COMPUTER|              15|  WINDOWS|285e5c5ae20b40309...|\n",
      "|                         13|                 15|d19953f6-1f53-4b5...|             0.0|                   14|           1538150924|         APPROVED|            1538151375|          train|       SMARTPHONE|              15|  ANDROID|83ce7022b6504a979...|\n",
      "|                          9|                 15|3aea0026-faae-484...|             0.0|                   14|           1538148115|         APPROVED|            1538148369|          train|PERSONAL_COMPUTER|              15|  WINDOWS|49c203950e65419eb...|\n",
      "|                          9|                 15|74144001-ee63-46a...|             0.0|                   14|           1538152210|         APPROVED|            1538152579|          train|PERSONAL_COMPUTER|              15|  WINDOWS|e4106d0f26df48238...|\n",
      "|                         14|                 15|786b6812-d50b-43f...|             0.0|                   14|           1538144628|         APPROVED|            1538144869|          train|PERSONAL_COMPUTER|              15|  WINDOWS|d1b97ba55c3f477eb...|\n",
      "+---------------------------+-------------------+--------------------+----------------+---------------------+---------------------+-----------------+----------------------+---------------+-----------------+----------------+---------+--------------------+\n",
      "only showing top 5 rows\n",
      "\n",
      "column\n",
      "['assignment_gs_correct_count', 'assignment_gs_count', 'assignment_id', 'assignment_price', 'assignment_project_id', 'assignment_start_time', 'assignment_status', 'assignment_submit_time', 'assignment_type', 'device_category', 'microtasks_count', 'os_family', 'user_id']\n"
     ]
    }
   ],
   "source": [
    "assignment = spark.read.csv('../dataset/raw/assignments.tsv', sep='\\t',header=True)\n",
    "assignment.show(5)\n",
    "\n",
    "print('column')\n",
    "print(assignment.columns)"
   ]
  },
  {
   "cell_type": "code",
   "execution_count": 4,
   "metadata": {},
   "outputs": [
    {
     "name": "stderr",
     "output_type": "stream",
     "text": [
      "24/08/01 15:36:08 WARN package: Truncated the string representation of a plan since it was too large. This behavior can be adjusted by setting 'spark.sql.debug.maxToStringFields'.\n"
     ]
    },
    {
     "name": "stdout",
     "output_type": "stream",
     "text": [
      "+--------------------------+-----------------+------------------+-------------------------------+--------------------------+------------------------+---------------------------+-------------------------+---------------------------+----------------------+------------------+-----------------+---------------------------------+-----------------------+---------------+------------------------+---------------------------------+------------------------+-------------------------+--------------------------+-----------------+----------+----------------------+----------------------------+-----------------------+-----------------------------+-----------------------+-------------------+\n",
      "|project_creation_timestamp|project_has_audio|project_has_button|project_has_buttonClicked_input|project_has_checkbox_input|project_has_externalHtml|project_has_fileAudio_input|project_has_fileImg_input|project_has_fileVideo_input|project_has_file_input|project_has_iframe|project_has_image|project_has_imageAnnotation_input|project_has_radio_input|project_has_sbs|project_has_select_input|project_has_sourcesRecorder_input|project_has_string_input|project_has_suggest_input|project_has_textarea_input|project_has_video|project_id|project_instruction_FK|project_instruction_language|project_instruction_len|project_instruction_wordCount|project_required_fields|project_spec_length|\n",
      "+--------------------------+-----------------+------------------+-------------------------------+--------------------------+------------------------+---------------------------+-------------------------+---------------------------+----------------------+------------------+-----------------+---------------------------------+-----------------------+---------------+------------------------+---------------------------------+------------------------+-------------------------+--------------------------+-----------------+----------+----------------------+----------------------------+-----------------------+-----------------------------+-----------------------+-------------------+\n",
      "|                1428398401|                0|                 1|                              0|                         0|                       0|                          0|                        0|                          0|                     0|                 0|                0|                                0|                      3|              0|                       0|                                0|                       0|                        0|                         0|                0|         1|     20.06825358851674|                          ru|                 3208.0|                        319.0|                      1|               1196|\n",
      "|                1436341103|                0|                 0|                              0|                         0|                       0|                          0|                        0|                          0|                     0|                 0|                0|                                0|                      2|              0|                       0|                                0|                       2|                        0|                         0|                0|         2|     31.44634532990574|                          ru|                 3289.0|                        312.0|                      1|               1663|\n",
      "|                1437037937|                0|                 0|                              0|                         0|                       0|                          0|                        0|                          0|                     0|                 0|                0|                                0|                      7|              0|                       0|                                0|                       0|                        0|                         0|                0|         3|    -43.73671314741034|                          ru|                 6288.0|                        637.0|                      1|               2483|\n",
      "|                1439365405|                0|                 0|                              0|                         0|                       0|                          0|                        0|                          0|                     0|                 0|                1|                                0|                      6|              0|                       0|                                0|                       0|                        0|                         0|                0|         4|    16.488188358404216|                          ru|                 4369.0|                        460.0|                      1|                635|\n",
      "|                1439968554|                0|                 1|                              0|                         0|                       0|                          0|                        0|                          0|                     0|                 0|                1|                                0|                     12|              0|                       0|                                0|                       0|                        0|                         0|                0|         5|     17.76821441581393|                          ru|                38650.0|                       3565.0|                      1|               9527|\n",
      "+--------------------------+-----------------+------------------+-------------------------------+--------------------------+------------------------+---------------------------+-------------------------+---------------------------+----------------------+------------------+-----------------+---------------------------------+-----------------------+---------------+------------------------+---------------------------------+------------------------+-------------------------+--------------------------+-----------------+----------+----------------------+----------------------------+-----------------------+-----------------------------+-----------------------+-------------------+\n",
      "only showing top 5 rows\n",
      "\n",
      "column\n",
      "['project_creation_timestamp', 'project_has_audio', 'project_has_button', 'project_has_buttonClicked_input', 'project_has_checkbox_input', 'project_has_externalHtml', 'project_has_fileAudio_input', 'project_has_fileImg_input', 'project_has_fileVideo_input', 'project_has_file_input', 'project_has_iframe', 'project_has_image', 'project_has_imageAnnotation_input', 'project_has_radio_input', 'project_has_sbs', 'project_has_select_input', 'project_has_sourcesRecorder_input', 'project_has_string_input', 'project_has_suggest_input', 'project_has_textarea_input', 'project_has_video', 'project_id', 'project_instruction_FK', 'project_instruction_language', 'project_instruction_len', 'project_instruction_wordCount', 'project_required_fields', 'project_spec_length']\n"
     ]
    }
   ],
   "source": [
    "proj = spark.read.csv('../dataset/raw/projects-data.tsv', sep='\\t',header=True)\n",
    "proj.show(5)\n",
    "\n",
    "print('column')\n",
    "print(proj.columns)"
   ]
  },
  {
   "cell_type": "markdown",
   "metadata": {},
   "source": [
    "# Clean dataset\n",
    "\n",
    "Follow the steps below\n",
    "1. remove column 'assignment_id' and 'user_id' from *assignment* dataframe\n",
    "2. remove column 'project_creation_timestamp' from *project* dataframe\n",
    "3. remove duplicate rows\n",
    "4. join *assignment* and *project* dataframe by project id\n",
    "5. remove project id column\n",
    "6. remove duplicate rows\n",
    "7. check missing values\n",
    "8. check columns that should be removed\n",
    "9. convert timestamp to date and time"
   ]
  },
  {
   "cell_type": "code",
   "execution_count": 5,
   "metadata": {},
   "outputs": [],
   "source": [
    "## step 1-2\n",
    "assignment = assignment.drop('assignment_id', 'user_id')\n",
    "proj = proj.drop('project_creation_timestamp')"
   ]
  },
  {
   "cell_type": "code",
   "execution_count": 6,
   "metadata": {},
   "outputs": [],
   "source": [
    "## step 3\n",
    "assignment = assignment.drop_duplicates()\n",
    "proj = proj.drop_duplicates()"
   ]
  },
  {
   "cell_type": "code",
   "execution_count": 7,
   "metadata": {},
   "outputs": [
    {
     "name": "stderr",
     "output_type": "stream",
     "text": [
      "                                                                                \r"
     ]
    },
    {
     "name": "stdout",
     "output_type": "stream",
     "text": [
      "total rows in assignment df: 18507067\n",
      "total rows in proj df: 767\n"
     ]
    },
    {
     "name": "stderr",
     "output_type": "stream",
     "text": [
      "[Stage 21:===================================>                     (8 + 5) / 13]\r"
     ]
    },
    {
     "name": "stdout",
     "output_type": "stream",
     "text": [
      "total joined rows in join_df: 18507067\n"
     ]
    },
    {
     "name": "stderr",
     "output_type": "stream",
     "text": [
      "                                                                                \r"
     ]
    }
   ],
   "source": [
    "## step 4\n",
    "join_df = assignment.join(proj, assignment.assignment_project_id == proj.project_id, how = 'inner')\n",
    "\n",
    "print('total rows in assignment df:', assignment.count())\n",
    "print('total rows in proj df:', proj.count())\n",
    "print('total joined rows in join_df:', join_df.count())"
   ]
  },
  {
   "cell_type": "code",
   "execution_count": 8,
   "metadata": {},
   "outputs": [],
   "source": [
    "## step 5\n",
    "join_df = join_df.drop('project_id', 'assignment_project_id')"
   ]
  },
  {
   "cell_type": "code",
   "execution_count": 9,
   "metadata": {},
   "outputs": [
    {
     "name": "stderr",
     "output_type": "stream",
     "text": [
      "[Stage 33:=====================================================>  (38 + 2) / 40]\r"
     ]
    },
    {
     "name": "stdout",
     "output_type": "stream",
     "text": [
      "total joined rows in join_df: 18507066\n"
     ]
    },
    {
     "name": "stderr",
     "output_type": "stream",
     "text": [
      "                                                                                \r"
     ]
    }
   ],
   "source": [
    "## step 6\n",
    "join_df = join_df.drop_duplicates()\n",
    "print('total joined rows in join_df:', join_df.count())"
   ]
  },
  {
   "cell_type": "markdown",
   "metadata": {},
   "source": [
    "In step 7, \n",
    "- there are 28 projects that the value of *project_instruction_FK* is null\n",
    "- there are 18 projects that the value of *project_instruction_language*, *project_instruction_len*, *project_instruction_wordCount* is null\n",
    "\n",
    "This results in 117081 total records (0.63% of 18507066) that contain null value.\n",
    "Thus, these records will be dropped out"
   ]
  },
  {
   "cell_type": "code",
   "execution_count": 10,
   "metadata": {},
   "outputs": [
    {
     "name": "stderr",
     "output_type": "stream",
     "text": [
      "[Stage 46:======================================================> (39 + 1) / 40]\r"
     ]
    },
    {
     "name": "stdout",
     "output_type": "stream",
     "text": [
      "+---------------------------+-------------------+----------------+---------------------+-----------------+----------------------+---------------+---------------+----------------+---------+-----------------+------------------+-------------------------------+--------------------------+------------------------+---------------------------+-------------------------+---------------------------+----------------------+------------------+-----------------+---------------------------------+-----------------------+---------------+------------------------+---------------------------------+------------------------+-------------------------+--------------------------+-----------------+----------------------+----------------------------+-----------------------+-----------------------------+-----------------------+-------------------+\n",
      "|assignment_gs_correct_count|assignment_gs_count|assignment_price|assignment_start_time|assignment_status|assignment_submit_time|assignment_type|device_category|microtasks_count|os_family|project_has_audio|project_has_button|project_has_buttonClicked_input|project_has_checkbox_input|project_has_externalHtml|project_has_fileAudio_input|project_has_fileImg_input|project_has_fileVideo_input|project_has_file_input|project_has_iframe|project_has_image|project_has_imageAnnotation_input|project_has_radio_input|project_has_sbs|project_has_select_input|project_has_sourcesRecorder_input|project_has_string_input|project_has_suggest_input|project_has_textarea_input|project_has_video|project_instruction_FK|project_instruction_language|project_instruction_len|project_instruction_wordCount|project_required_fields|project_spec_length|\n",
      "+---------------------------+-------------------+----------------+---------------------+-----------------+----------------------+---------------+---------------+----------------+---------+-----------------+------------------+-------------------------------+--------------------------+------------------------+---------------------------+-------------------------+---------------------------+----------------------+------------------+-----------------+---------------------------------+-----------------------+---------------+------------------------+---------------------------------+------------------------+-------------------------+--------------------------+-----------------+----------------------+----------------------------+-----------------------+-----------------------------+-----------------------+-------------------+\n",
      "|                          0|                  0|               0|                    0|                0|                     0|              0|              0|               0|        0|                0|                 0|                              0|                         0|                       0|                          0|                        0|                          0|                     0|                 0|                0|                                0|                      0|              0|                       0|                                0|                       0|                        0|                         0|                0|                117081|                      115895|                 115895|                       115895|                      0|                  0|\n",
      "+---------------------------+-------------------+----------------+---------------------+-----------------+----------------------+---------------+---------------+----------------+---------+-----------------+------------------+-------------------------------+--------------------------+------------------------+---------------------------+-------------------------+---------------------------+----------------------+------------------+-----------------+---------------------------------+-----------------------+---------------+------------------------+---------------------------------+------------------------+-------------------------+--------------------------+-----------------+----------------------+----------------------------+-----------------------+-----------------------------+-----------------------+-------------------+\n",
      "\n"
     ]
    },
    {
     "name": "stderr",
     "output_type": "stream",
     "text": [
      "                                                                                \r"
     ]
    }
   ],
   "source": [
    "## step 7\n",
    "join_df.select([count(when(isnan(c) | col(c).isNull(), c)).alias(c) for c in join_df.columns]).show()"
   ]
  },
  {
   "cell_type": "code",
   "execution_count": 11,
   "metadata": {},
   "outputs": [
    {
     "name": "stdout",
     "output_type": "stream",
     "text": [
      "+-----------------+------------------+-------------------------------+--------------------------+------------------------+---------------------------+-------------------------+---------------------------+----------------------+------------------+-----------------+---------------------------------+-----------------------+---------------+------------------------+---------------------------------+------------------------+-------------------------+--------------------------+-----------------+----------+----------------------+----------------------------+-----------------------+-----------------------------+-----------------------+-------------------+\n",
      "|project_has_audio|project_has_button|project_has_buttonClicked_input|project_has_checkbox_input|project_has_externalHtml|project_has_fileAudio_input|project_has_fileImg_input|project_has_fileVideo_input|project_has_file_input|project_has_iframe|project_has_image|project_has_imageAnnotation_input|project_has_radio_input|project_has_sbs|project_has_select_input|project_has_sourcesRecorder_input|project_has_string_input|project_has_suggest_input|project_has_textarea_input|project_has_video|project_id|project_instruction_FK|project_instruction_language|project_instruction_len|project_instruction_wordCount|project_required_fields|project_spec_length|\n",
      "+-----------------+------------------+-------------------------------+--------------------------+------------------------+---------------------------+-------------------------+---------------------------+----------------------+------------------+-----------------+---------------------------------+-----------------------+---------------+------------------------+---------------------------------+------------------------+-------------------------+--------------------------+-----------------+----------+----------------------+----------------------------+-----------------------+-----------------------------+-----------------------+-------------------+\n",
      "|                0|                 0|                              0|                         0|                       0|                          0|                        0|                          0|                     0|                 0|                0|                                0|                      0|              0|                       0|                                0|                       0|                        0|                         0|                0|         0|                    28|                          18|                     18|                           18|                      0|                  0|\n",
      "+-----------------+------------------+-------------------------------+--------------------------+------------------------+---------------------------+-------------------------+---------------------------+----------------------+------------------+-----------------+---------------------------------+-----------------------+---------------+------------------------+---------------------------------+------------------------+-------------------------+--------------------------+-----------------+----------+----------------------+----------------------------+-----------------------+-----------------------------+-----------------------+-------------------+\n",
      "\n"
     ]
    }
   ],
   "source": [
    "proj.select([count(when(isnan(c) | col(c).isNull(), c)).alias(c) for c in proj.columns]).show()"
   ]
  },
  {
   "cell_type": "code",
   "execution_count": 12,
   "metadata": {},
   "outputs": [],
   "source": [
    "join_df = join_df.dropna()"
   ]
  },
  {
   "cell_type": "code",
   "execution_count": 14,
   "metadata": {},
   "outputs": [
    {
     "name": "stderr",
     "output_type": "stream",
     "text": [
      "                                                                                \r"
     ]
    },
    {
     "name": "stdout",
     "output_type": "stream",
     "text": [
      "unique value of column project_has_audio: 5\n"
     ]
    },
    {
     "name": "stderr",
     "output_type": "stream",
     "text": [
      "                                                                                \r"
     ]
    },
    {
     "name": "stdout",
     "output_type": "stream",
     "text": [
      "unique value of column project_has_button: 16\n"
     ]
    },
    {
     "name": "stderr",
     "output_type": "stream",
     "text": [
      "                                                                                \r"
     ]
    },
    {
     "name": "stdout",
     "output_type": "stream",
     "text": [
      "unique value of column project_has_buttonClicked_input: 1\n"
     ]
    },
    {
     "name": "stderr",
     "output_type": "stream",
     "text": [
      "                                                                                \r"
     ]
    },
    {
     "name": "stdout",
     "output_type": "stream",
     "text": [
      "unique value of column project_has_checkbox_input: 19\n"
     ]
    },
    {
     "name": "stderr",
     "output_type": "stream",
     "text": [
      "                                                                                \r"
     ]
    },
    {
     "name": "stdout",
     "output_type": "stream",
     "text": [
      "unique value of column project_has_externalHtml: 2\n"
     ]
    },
    {
     "name": "stderr",
     "output_type": "stream",
     "text": [
      "                                                                                \r"
     ]
    },
    {
     "name": "stdout",
     "output_type": "stream",
     "text": [
      "unique value of column project_has_fileAudio_input: 2\n"
     ]
    },
    {
     "name": "stderr",
     "output_type": "stream",
     "text": [
      "                                                                                \r"
     ]
    },
    {
     "name": "stdout",
     "output_type": "stream",
     "text": [
      "unique value of column project_has_fileImg_input: 3\n"
     ]
    },
    {
     "name": "stderr",
     "output_type": "stream",
     "text": [
      "                                                                                \r"
     ]
    },
    {
     "name": "stdout",
     "output_type": "stream",
     "text": [
      "unique value of column project_has_fileVideo_input: 1\n"
     ]
    },
    {
     "name": "stderr",
     "output_type": "stream",
     "text": [
      "                                                                                \r"
     ]
    },
    {
     "name": "stdout",
     "output_type": "stream",
     "text": [
      "unique value of column project_has_file_input: 3\n"
     ]
    },
    {
     "name": "stderr",
     "output_type": "stream",
     "text": [
      "                                                                                \r"
     ]
    },
    {
     "name": "stdout",
     "output_type": "stream",
     "text": [
      "unique value of column project_has_iframe: 7\n"
     ]
    },
    {
     "name": "stderr",
     "output_type": "stream",
     "text": [
      "                                                                                \r"
     ]
    },
    {
     "name": "stdout",
     "output_type": "stream",
     "text": [
      "unique value of column project_has_image: 13\n"
     ]
    },
    {
     "name": "stderr",
     "output_type": "stream",
     "text": [
      "                                                                                \r"
     ]
    },
    {
     "name": "stdout",
     "output_type": "stream",
     "text": [
      "unique value of column project_has_imageAnnotation_input: 1\n"
     ]
    },
    {
     "name": "stderr",
     "output_type": "stream",
     "text": [
      "                                                                                \r"
     ]
    },
    {
     "name": "stdout",
     "output_type": "stream",
     "text": [
      "unique value of column project_has_radio_input: 33\n"
     ]
    },
    {
     "name": "stderr",
     "output_type": "stream",
     "text": [
      "                                                                                \r"
     ]
    },
    {
     "name": "stdout",
     "output_type": "stream",
     "text": [
      "unique value of column project_has_sbs: 7\n"
     ]
    },
    {
     "name": "stderr",
     "output_type": "stream",
     "text": [
      "                                                                                \r"
     ]
    },
    {
     "name": "stdout",
     "output_type": "stream",
     "text": [
      "unique value of column project_has_select_input: 7\n"
     ]
    },
    {
     "name": "stderr",
     "output_type": "stream",
     "text": [
      "                                                                                \r"
     ]
    },
    {
     "name": "stdout",
     "output_type": "stream",
     "text": [
      "unique value of column project_has_sourcesRecorder_input: 2\n"
     ]
    },
    {
     "name": "stderr",
     "output_type": "stream",
     "text": [
      "                                                                                \r"
     ]
    },
    {
     "name": "stdout",
     "output_type": "stream",
     "text": [
      "unique value of column project_has_string_input: 12\n"
     ]
    },
    {
     "name": "stderr",
     "output_type": "stream",
     "text": [
      "                                                                                \r"
     ]
    },
    {
     "name": "stdout",
     "output_type": "stream",
     "text": [
      "unique value of column project_has_suggest_input: 4\n"
     ]
    },
    {
     "name": "stderr",
     "output_type": "stream",
     "text": [
      "                                                                                \r"
     ]
    },
    {
     "name": "stdout",
     "output_type": "stream",
     "text": [
      "unique value of column project_has_textarea_input: 8\n"
     ]
    },
    {
     "name": "stderr",
     "output_type": "stream",
     "text": [
      "                                                                                \r"
     ]
    },
    {
     "name": "stdout",
     "output_type": "stream",
     "text": [
      "unique value of column project_has_video: 3\n"
     ]
    },
    {
     "name": "stderr",
     "output_type": "stream",
     "text": [
      "[Stage 335:==================================================>    (12 + 1) / 13]\r"
     ]
    },
    {
     "name": "stdout",
     "output_type": "stream",
     "text": [
      "unique value of column project_instruction_language: 2\n"
     ]
    },
    {
     "name": "stderr",
     "output_type": "stream",
     "text": [
      "                                                                                \r"
     ]
    }
   ],
   "source": [
    "## step 8\n",
    "\n",
    "for col in ['project_has_audio', 'project_has_button', 'project_has_buttonClicked_input', 'project_has_checkbox_input', 'project_has_externalHtml', 'project_has_fileAudio_input', 'project_has_fileImg_input', 'project_has_fileVideo_input', 'project_has_file_input', 'project_has_iframe', 'project_has_image', 'project_has_imageAnnotation_input', 'project_has_radio_input', 'project_has_sbs', 'project_has_select_input', 'project_has_sourcesRecorder_input', 'project_has_string_input', 'project_has_suggest_input', 'project_has_textarea_input', 'project_has_video', 'project_instruction_language']:\n",
    "    print('unique value of column {}: {}'.format(col, join_df.select(col).distinct().count()))"
   ]
  },
  {
   "cell_type": "code",
   "execution_count": 17,
   "metadata": {},
   "outputs": [
    {
     "name": "stderr",
     "output_type": "stream",
     "text": [
      "[Stage 357:=========================>                              (6 + 7) / 13]\r"
     ]
    },
    {
     "name": "stdout",
     "output_type": "stream",
     "text": [
      "+---------------------------+\n",
      "|project_has_fileAudio_input|\n",
      "+---------------------------+\n",
      "|                          0|\n",
      "|                          1|\n",
      "+---------------------------+\n",
      "\n"
     ]
    },
    {
     "name": "stderr",
     "output_type": "stream",
     "text": [
      "                                                                                \r"
     ]
    }
   ],
   "source": [
    "join_df.select('project_has_fileAudio_input').distinct().show()"
   ]
  },
  {
   "cell_type": "code",
   "execution_count": 19,
   "metadata": {},
   "outputs": [],
   "source": [
    "### drop columns that have only 1 unique value\n",
    "\n",
    "col_to_drop = ['project_has_buttonClicked_input', 'project_has_imageAnnotation_input', 'project_has_fileVideo_input']\n",
    "\n",
    "for col in col_to_drop:\n",
    "    join_df = join_df.drop(col)\n"
   ]
  },
  {
   "cell_type": "code",
   "execution_count": 35,
   "metadata": {},
   "outputs": [
    {
     "name": "stderr",
     "output_type": "stream",
     "text": [
      "[Stage 369:>                                                        (0 + 1) / 1]\r"
     ]
    },
    {
     "name": "stdout",
     "output_type": "stream",
     "text": [
      "+---------------------------+-------------------+----------------+---------------------+-----------------+----------------------+---------------+-----------------+----------------+---------+-----------------+------------------+--------------------------+------------------------+---------------------------+-------------------------+----------------------+------------------+-----------------+-----------------------+---------------+------------------------+---------------------------------+------------------------+-------------------------+--------------------------+-----------------+----------------------+----------------------------+-----------------------+-----------------------------+-----------------------+-------------------+--------------------------+\n",
      "|assignment_gs_correct_count|assignment_gs_count|assignment_price|assignment_start_time|assignment_status|assignment_submit_time|assignment_type|  device_category|microtasks_count|os_family|project_has_audio|project_has_button|project_has_checkbox_input|project_has_externalHtml|project_has_fileAudio_input|project_has_fileImg_input|project_has_file_input|project_has_iframe|project_has_image|project_has_radio_input|project_has_sbs|project_has_select_input|project_has_sourcesRecorder_input|project_has_string_input|project_has_suggest_input|project_has_textarea_input|project_has_video|project_instruction_FK|project_instruction_language|project_instruction_len|project_instruction_wordCount|project_required_fields|project_spec_length|completion-time-in-minutes|\n",
      "+---------------------------+-------------------+----------------+---------------------+-----------------+----------------------+---------------+-----------------+----------------+---------+-----------------+------------------+--------------------------+------------------------+---------------------------+-------------------------+----------------------+------------------+-----------------+-----------------------+---------------+------------------------+---------------------------------+------------------------+-------------------------+--------------------------+-----------------+----------------------+----------------------------+-----------------------+-----------------------------+-----------------------+-------------------+--------------------------+\n",
      "|                          0|                  0|            0.01|  2018-08-30 00:58:14|        SUBMITTED|   2018-08-30 00:58:42|        regular|PERSONAL_COMPUTER|              30|  WINDOWS|                0|                 0|                         0|                       0|                          0|                        0|                     0|                 0|                0|                      2|              0|                       0|                                0|                       0|                        0|                         0|                0|    17.414619726678552|                          ru|                 4406.0|                        465.0|                      1|                198|                      0.47|\n",
      "|                          2|                  4|            0.08|  2018-08-30 06:29:35|         APPROVED|   2018-08-30 06:34:46|        regular|PERSONAL_COMPUTER|              25|  WINDOWS|                1|                 0|                         0|                       0|                          0|                        0|                     0|                 0|                0|                      3|              0|                       0|                                0|                       0|                        0|                         1|                0|     8.499339114832537|                          ru|                 4692.0|                        506.0|                      1|                507|                      5.18|\n",
      "|                          1|                  2|            0.01|  2018-08-30 15:32:04|         APPROVED|   2018-08-30 15:32:44|        regular|PERSONAL_COMPUTER|              17|  WINDOWS|                0|                 0|                         0|                       0|                          0|                        0|                     0|                 0|                1|                      3|              0|                       0|                                0|                       0|                        0|                         0|                0|   -21.670357142857142|                          ru|                  490.0|                         46.0|                      0|                420|                      0.67|\n",
      "|                          0|                  0|            0.01|  2018-08-31 01:43:48|         APPROVED|   2018-08-31 01:45:12|        regular|PERSONAL_COMPUTER|              27|  WINDOWS|                0|                 0|                         0|                       0|                          0|                        0|                     0|                 0|                0|                      2|              0|                       0|                                0|                       0|                        0|                         0|                0|    17.414619726678552|                          ru|                 4406.0|                        465.0|                      1|                198|                       1.4|\n",
      "|                          0|                  0|            0.01|  2018-08-31 05:34:09|        SUBMITTED|   2018-08-31 05:34:49|        regular|PERSONAL_COMPUTER|              26|  WINDOWS|                0|                 0|                         0|                       0|                          0|                        0|                     0|                 0|                0|                      4|              0|                       0|                                0|                       0|                        0|                         0|                0|    17.414619726678552|                          ru|                 4406.0|                        465.0|                      1|                389|                      0.67|\n",
      "+---------------------------+-------------------+----------------+---------------------+-----------------+----------------------+---------------+-----------------+----------------+---------+-----------------+------------------+--------------------------+------------------------+---------------------------+-------------------------+----------------------+------------------+-----------------+-----------------------+---------------+------------------------+---------------------------------+------------------------+-------------------------+--------------------------+-----------------+----------------------+----------------------------+-----------------------+-----------------------------+-----------------------+-------------------+--------------------------+\n",
      "only showing top 5 rows\n",
      "\n"
     ]
    },
    {
     "name": "stderr",
     "output_type": "stream",
     "text": [
      "                                                                                \r"
     ]
    }
   ],
   "source": [
    "## step 9\n",
    "\n",
    "join_df = join_df.withColumn('assignment_start_time', from_unixtime(col('assignment_start_time')))\n",
    "join_df = join_df.withColumn('assignment_submit_time', from_unixtime(col('assignment_submit_time')))\n",
    "\n",
    "### convert to human-readable format\n",
    "join_df = join_df.withColumn('assignment_start_time', to_timestamp(col('assignment_start_time'), 'yyyy-MM-dd HH:mm:ss'))\n",
    "join_df = join_df.withColumn('assignment_submit_time', to_timestamp(col('assignment_submit_time'), 'yyyy-MM-dd HH:mm:ss'))\n",
    "\n",
    "join_df = join_df.withColumn('completion-time-in-minutes', spark_round((unix_timestamp('assignment_submit_time') - unix_timestamp('assignment_start_time'))/60,2))\n",
    "\n",
    "join_df.show(5)"
   ]
  },
  {
   "cell_type": "code",
   "execution_count": 36,
   "metadata": {},
   "outputs": [
    {
     "name": "stderr",
     "output_type": "stream",
     "text": [
      "[Stage 378:>                                                        (0 + 1) / 1]\r"
     ]
    },
    {
     "name": "stdout",
     "output_type": "stream",
     "text": [
      "+---------------------------+-------------------+----------------+---------------------+-----------------+----------------------+---------------+-----------------+----------------+---------+-----------------+------------------+--------------------------+------------------------+---------------------------+-------------------------+----------------------+------------------+-----------------+-----------------------+---------------+------------------------+---------------------------------+------------------------+-------------------------+--------------------------+-----------------+----------------------+----------------------------+-----------------------+-----------------------------+-----------------------+-------------------+--------------------------+---------------------+----------------------+\n",
      "|assignment_gs_correct_count|assignment_gs_count|assignment_price|assignment_start_time|assignment_status|assignment_submit_time|assignment_type|  device_category|microtasks_count|os_family|project_has_audio|project_has_button|project_has_checkbox_input|project_has_externalHtml|project_has_fileAudio_input|project_has_fileImg_input|project_has_file_input|project_has_iframe|project_has_image|project_has_radio_input|project_has_sbs|project_has_select_input|project_has_sourcesRecorder_input|project_has_string_input|project_has_suggest_input|project_has_textarea_input|project_has_video|project_instruction_FK|project_instruction_language|project_instruction_len|project_instruction_wordCount|project_required_fields|project_spec_length|completion-time-in-minutes|assignment_start_date|assignment_submit_date|\n",
      "+---------------------------+-------------------+----------------+---------------------+-----------------+----------------------+---------------+-----------------+----------------+---------+-----------------+------------------+--------------------------+------------------------+---------------------------+-------------------------+----------------------+------------------+-----------------+-----------------------+---------------+------------------------+---------------------------------+------------------------+-------------------------+--------------------------+-----------------+----------------------+----------------------------+-----------------------+-----------------------------+-----------------------+-------------------+--------------------------+---------------------+----------------------+\n",
      "|                          0|                  0|            0.01|             12:58:14|        SUBMITTED|              12:58:42|        regular|PERSONAL_COMPUTER|              30|  WINDOWS|                0|                 0|                         0|                       0|                          0|                        0|                     0|                 0|                0|                      2|              0|                       0|                                0|                       0|                        0|                         0|                0|    17.414619726678552|                          ru|                 4406.0|                        465.0|                      1|                198|                      0.47|            2018-8-30|             2018-8-30|\n",
      "|                          2|                  4|            0.08|              6:29:35|         APPROVED|               6:34:46|        regular|PERSONAL_COMPUTER|              25|  WINDOWS|                1|                 0|                         0|                       0|                          0|                        0|                     0|                 0|                0|                      3|              0|                       0|                                0|                       0|                        0|                         1|                0|     8.499339114832537|                          ru|                 4692.0|                        506.0|                      1|                507|                      5.18|            2018-8-30|             2018-8-30|\n",
      "|                          1|                  2|            0.01|               3:32:4|         APPROVED|               3:32:44|        regular|PERSONAL_COMPUTER|              17|  WINDOWS|                0|                 0|                         0|                       0|                          0|                        0|                     0|                 0|                1|                      3|              0|                       0|                                0|                       0|                        0|                         0|                0|   -21.670357142857142|                          ru|                  490.0|                         46.0|                      0|                420|                      0.67|            2018-8-30|             2018-8-30|\n",
      "|                          0|                  0|            0.01|              1:43:48|         APPROVED|               1:45:12|        regular|PERSONAL_COMPUTER|              27|  WINDOWS|                0|                 0|                         0|                       0|                          0|                        0|                     0|                 0|                0|                      2|              0|                       0|                                0|                       0|                        0|                         0|                0|    17.414619726678552|                          ru|                 4406.0|                        465.0|                      1|                198|                       1.4|            2018-8-31|             2018-8-31|\n",
      "|                          0|                  0|            0.01|               5:34:9|        SUBMITTED|               5:34:49|        regular|PERSONAL_COMPUTER|              26|  WINDOWS|                0|                 0|                         0|                       0|                          0|                        0|                     0|                 0|                0|                      4|              0|                       0|                                0|                       0|                        0|                         0|                0|    17.414619726678552|                          ru|                 4406.0|                        465.0|                      1|                389|                      0.67|            2018-8-31|             2018-8-31|\n",
      "+---------------------------+-------------------+----------------+---------------------+-----------------+----------------------+---------------+-----------------+----------------+---------+-----------------+------------------+--------------------------+------------------------+---------------------------+-------------------------+----------------------+------------------+-----------------+-----------------------+---------------+------------------------+---------------------------------+------------------------+-------------------------+--------------------------+-----------------+----------------------+----------------------------+-----------------------+-----------------------------+-----------------------+-------------------+--------------------------+---------------------+----------------------+\n",
      "only showing top 5 rows\n",
      "\n"
     ]
    },
    {
     "name": "stderr",
     "output_type": "stream",
     "text": [
      "                                                                                \r"
     ]
    }
   ],
   "source": [
    "## split date and time into 2 columns\n",
    "\n",
    "join_df = join_df.withColumn('assignment_start_date', date_format('assignment_start_time', 'yyyy-M-d'))\n",
    "join_df = join_df.withColumn('assignment_start_time', date_format('assignment_start_time', 'h:m:s'))\n",
    "join_df = join_df.withColumn('assignment_submit_date', date_format('assignment_submit_time', 'yyyy-M-d'))\n",
    "join_df = join_df.withColumn('assignment_submit_time', date_format('assignment_submit_time', 'h:m:s'))\n",
    "\n",
    "join_df.show(5)"
   ]
  },
  {
   "cell_type": "code",
   "execution_count": 37,
   "metadata": {},
   "outputs": [
    {
     "name": "stderr",
     "output_type": "stream",
     "text": [
      "[Stage 387:>                                                        (0 + 1) / 1]\r"
     ]
    },
    {
     "name": "stdout",
     "output_type": "stream",
     "text": [
      "+---------------------------+-------------------+----------------+---------------------+-----------------+----------------------+---------------+-----------------+----------------+---------+-----------------+------------------+--------------------------+------------------------+---------------------------+-------------------------+----------------------+------------------+-----------------+-----------------------+---------------+------------------------+---------------------------------+------------------------+-------------------------+--------------------------+-----------------+----------------------+----------------------------+-----------------------+-----------------------------+-----------------------+-------------------+--------------------------+---------------------+----------------------+---------------------+----------------------+--------------------+---------------------+-----------------------+----------------------+-----------------------+---------------------+----------------------+------------------------+\n",
      "|assignment_gs_correct_count|assignment_gs_count|assignment_price|assignment_start_time|assignment_status|assignment_submit_time|assignment_type|  device_category|microtasks_count|os_family|project_has_audio|project_has_button|project_has_checkbox_input|project_has_externalHtml|project_has_fileAudio_input|project_has_fileImg_input|project_has_file_input|project_has_iframe|project_has_image|project_has_radio_input|project_has_sbs|project_has_select_input|project_has_sourcesRecorder_input|project_has_string_input|project_has_suggest_input|project_has_textarea_input|project_has_video|project_instruction_FK|project_instruction_language|project_instruction_len|project_instruction_wordCount|project_required_fields|project_spec_length|completion-time-in-minutes|assignment_start_date|assignment_submit_date|assignment_start_year|assignment_start_month|assignment_start_day|assignment_start_hour|assignment_start_minute|assignment_submit_year|assignment_submit_month|assignment_submit_day|assignment_submit_hour|assignment_submit_minute|\n",
      "+---------------------------+-------------------+----------------+---------------------+-----------------+----------------------+---------------+-----------------+----------------+---------+-----------------+------------------+--------------------------+------------------------+---------------------------+-------------------------+----------------------+------------------+-----------------+-----------------------+---------------+------------------------+---------------------------------+------------------------+-------------------------+--------------------------+-----------------+----------------------+----------------------------+-----------------------+-----------------------------+-----------------------+-------------------+--------------------------+---------------------+----------------------+---------------------+----------------------+--------------------+---------------------+-----------------------+----------------------+-----------------------+---------------------+----------------------+------------------------+\n",
      "|                          0|                  0|            0.01|             12:58:14|        SUBMITTED|              12:58:42|        regular|PERSONAL_COMPUTER|              30|  WINDOWS|                0|                 0|                         0|                       0|                          0|                        0|                     0|                 0|                0|                      2|              0|                       0|                                0|                       0|                        0|                         0|                0|    17.414619726678552|                          ru|                 4406.0|                        465.0|                      1|                198|                      0.47|            2018-8-30|             2018-8-30|                 2018|                     8|                  30|                   12|                     58|                  2018|                      8|                   30|                    12|                      58|\n",
      "|                          2|                  4|            0.08|              6:29:35|         APPROVED|               6:34:46|        regular|PERSONAL_COMPUTER|              25|  WINDOWS|                1|                 0|                         0|                       0|                          0|                        0|                     0|                 0|                0|                      3|              0|                       0|                                0|                       0|                        0|                         1|                0|     8.499339114832537|                          ru|                 4692.0|                        506.0|                      1|                507|                      5.18|            2018-8-30|             2018-8-30|                 2018|                     8|                  30|                    6|                     29|                  2018|                      8|                   30|                     6|                      34|\n",
      "|                          1|                  2|            0.01|               3:32:4|         APPROVED|               3:32:44|        regular|PERSONAL_COMPUTER|              17|  WINDOWS|                0|                 0|                         0|                       0|                          0|                        0|                     0|                 0|                1|                      3|              0|                       0|                                0|                       0|                        0|                         0|                0|   -21.670357142857142|                          ru|                  490.0|                         46.0|                      0|                420|                      0.67|            2018-8-30|             2018-8-30|                 2018|                     8|                  30|                    3|                     32|                  2018|                      8|                   30|                     3|                      32|\n",
      "|                          0|                  0|            0.01|              1:43:48|         APPROVED|               1:45:12|        regular|PERSONAL_COMPUTER|              27|  WINDOWS|                0|                 0|                         0|                       0|                          0|                        0|                     0|                 0|                0|                      2|              0|                       0|                                0|                       0|                        0|                         0|                0|    17.414619726678552|                          ru|                 4406.0|                        465.0|                      1|                198|                       1.4|            2018-8-31|             2018-8-31|                 2018|                     8|                  31|                    1|                     43|                  2018|                      8|                   31|                     1|                      45|\n",
      "|                          0|                  0|            0.01|               5:34:9|        SUBMITTED|               5:34:49|        regular|PERSONAL_COMPUTER|              26|  WINDOWS|                0|                 0|                         0|                       0|                          0|                        0|                     0|                 0|                0|                      4|              0|                       0|                                0|                       0|                        0|                         0|                0|    17.414619726678552|                          ru|                 4406.0|                        465.0|                      1|                389|                      0.67|            2018-8-31|             2018-8-31|                 2018|                     8|                  31|                    5|                     34|                  2018|                      8|                   31|                     5|                      34|\n",
      "+---------------------------+-------------------+----------------+---------------------+-----------------+----------------------+---------------+-----------------+----------------+---------+-----------------+------------------+--------------------------+------------------------+---------------------------+-------------------------+----------------------+------------------+-----------------+-----------------------+---------------+------------------------+---------------------------------+------------------------+-------------------------+--------------------------+-----------------+----------------------+----------------------------+-----------------------+-----------------------------+-----------------------+-------------------+--------------------------+---------------------+----------------------+---------------------+----------------------+--------------------+---------------------+-----------------------+----------------------+-----------------------+---------------------+----------------------+------------------------+\n",
      "only showing top 5 rows\n",
      "\n"
     ]
    },
    {
     "name": "stderr",
     "output_type": "stream",
     "text": [
      "                                                                                \r"
     ]
    }
   ],
   "source": [
    "## split date into 3 columns (year, month, day)\n",
    "## split time into 2 columns (hour and minute)\n",
    "\n",
    "split_start_date = spark_split(join_df['assignment_start_date'], '-')\n",
    "split_start_time = spark_split(join_df['assignment_start_time'], ':')\n",
    "\n",
    "join_df = join_df.withColumn('assignment_start_year', split_start_date.getItem(0))\n",
    "join_df = join_df.withColumn('assignment_start_month', split_start_date.getItem(1))\n",
    "join_df = join_df.withColumn('assignment_start_day', split_start_date.getItem(2))\n",
    "\n",
    "join_df = join_df.withColumn('assignment_start_hour', split_start_time.getItem(0))\n",
    "join_df = join_df.withColumn('assignment_start_minute', split_start_time.getItem(1))\n",
    "\n",
    "\n",
    "\n",
    "split_submit_date = spark_split(join_df['assignment_submit_date'], '-')\n",
    "split_submit_time = spark_split(join_df['assignment_submit_time'], ':')\n",
    "\n",
    "join_df = join_df.withColumn('assignment_submit_year', split_submit_date.getItem(0))\n",
    "join_df = join_df.withColumn('assignment_submit_month', split_submit_date.getItem(1))\n",
    "join_df = join_df.withColumn('assignment_submit_day', split_submit_date.getItem(2))\n",
    "\n",
    "join_df = join_df.withColumn('assignment_submit_hour', split_submit_time.getItem(0))\n",
    "join_df = join_df.withColumn('assignment_submit_minute', split_submit_time.getItem(1))\n",
    "\n",
    "join_df.show(5)"
   ]
  },
  {
   "cell_type": "code",
   "execution_count": 40,
   "metadata": {},
   "outputs": [
    {
     "name": "stderr",
     "output_type": "stream",
     "text": [
      "[Stage 399:==================================================>    (12 + 1) / 13]\r"
     ]
    },
    {
     "name": "stdout",
     "output_type": "stream",
     "text": [
      "+-------------------------+\n",
      "|project_has_fileImg_input|\n",
      "+-------------------------+\n",
      "|                        0|\n",
      "|                        1|\n",
      "|                        4|\n",
      "+-------------------------+\n",
      "\n"
     ]
    },
    {
     "name": "stderr",
     "output_type": "stream",
     "text": [
      "                                                                                \r"
     ]
    }
   ],
   "source": [
    "join_df.select('project_has_fileImg_input').distinct().show()"
   ]
  },
  {
   "cell_type": "code",
   "execution_count": 42,
   "metadata": {},
   "outputs": [
    {
     "name": "stderr",
     "output_type": "stream",
     "text": [
      "[Stage 417:==================================================>    (12 + 1) / 13]\r"
     ]
    },
    {
     "name": "stdout",
     "output_type": "stream",
     "text": [
      "+-------------------------+\n",
      "|project_has_suggest_input|\n",
      "+-------------------------+\n",
      "|                        3|\n",
      "|                        0|\n",
      "|                       32|\n",
      "|                        1|\n",
      "+-------------------------+\n",
      "\n"
     ]
    },
    {
     "name": "stderr",
     "output_type": "stream",
     "text": [
      "                                                                                \r"
     ]
    }
   ],
   "source": [
    "join_df.select('project_has_suggest_input').distinct().show()"
   ]
  },
  {
   "cell_type": "markdown",
   "metadata": {},
   "source": [
    "# Save the cleaned dataset for further steps"
   ]
  },
  {
   "cell_type": "code",
   "execution_count": 43,
   "metadata": {},
   "outputs": [
    {
     "name": "stderr",
     "output_type": "stream",
     "text": [
      "                                                                                \r"
     ]
    }
   ],
   "source": [
    "join_df.write.csv('../dataset/cleaned/cleaned_dataset_from_spark')"
   ]
  },
  {
   "cell_type": "code",
   "execution_count": 44,
   "metadata": {},
   "outputs": [
    {
     "name": "stdout",
     "output_type": "stream",
     "text": [
      "['part-00007-cfe64d09-75a9-4161-8021-8b0f4bd06a95-c000.csv', 'part-00028-cfe64d09-75a9-4161-8021-8b0f4bd06a95-c000.csv', 'part-00024-cfe64d09-75a9-4161-8021-8b0f4bd06a95-c000.csv', 'part-00010-cfe64d09-75a9-4161-8021-8b0f4bd06a95-c000.csv', 'part-00033-cfe64d09-75a9-4161-8021-8b0f4bd06a95-c000.csv', 'part-00029-cfe64d09-75a9-4161-8021-8b0f4bd06a95-c000.csv', 'part-00006-cfe64d09-75a9-4161-8021-8b0f4bd06a95-c000.csv', 'part-00025-cfe64d09-75a9-4161-8021-8b0f4bd06a95-c000.csv', 'part-00011-cfe64d09-75a9-4161-8021-8b0f4bd06a95-c000.csv', 'part-00032-cfe64d09-75a9-4161-8021-8b0f4bd06a95-c000.csv', 'part-00026-cfe64d09-75a9-4161-8021-8b0f4bd06a95-c000.csv', 'part-00009-cfe64d09-75a9-4161-8021-8b0f4bd06a95-c000.csv', 'part-00005-cfe64d09-75a9-4161-8021-8b0f4bd06a95-c000.csv', 'part-00031-cfe64d09-75a9-4161-8021-8b0f4bd06a95-c000.csv', 'part-00012-cfe64d09-75a9-4161-8021-8b0f4bd06a95-c000.csv', 'part-00008-cfe64d09-75a9-4161-8021-8b0f4bd06a95-c000.csv', 'part-00027-cfe64d09-75a9-4161-8021-8b0f4bd06a95-c000.csv', 'part-00004-cfe64d09-75a9-4161-8021-8b0f4bd06a95-c000.csv', 'part-00030-cfe64d09-75a9-4161-8021-8b0f4bd06a95-c000.csv', 'part-00013-cfe64d09-75a9-4161-8021-8b0f4bd06a95-c000.csv', 'part-00014-cfe64d09-75a9-4161-8021-8b0f4bd06a95-c000.csv', 'part-00018-cfe64d09-75a9-4161-8021-8b0f4bd06a95-c000.csv', 'part-00037-cfe64d09-75a9-4161-8021-8b0f4bd06a95-c000.csv', 'part-00003-cfe64d09-75a9-4161-8021-8b0f4bd06a95-c000.csv', 'part-00020-cfe64d09-75a9-4161-8021-8b0f4bd06a95-c000.csv', 'part-00015-cfe64d09-75a9-4161-8021-8b0f4bd06a95-c000.csv', 'part-00036-cfe64d09-75a9-4161-8021-8b0f4bd06a95-c000.csv', 'part-00019-cfe64d09-75a9-4161-8021-8b0f4bd06a95-c000.csv', 'part-00002-cfe64d09-75a9-4161-8021-8b0f4bd06a95-c000.csv', 'part-00021-cfe64d09-75a9-4161-8021-8b0f4bd06a95-c000.csv', 'part-00035-cfe64d09-75a9-4161-8021-8b0f4bd06a95-c000.csv', 'part-00039-cfe64d09-75a9-4161-8021-8b0f4bd06a95-c000.csv', 'part-00016-cfe64d09-75a9-4161-8021-8b0f4bd06a95-c000.csv', 'part-00022-cfe64d09-75a9-4161-8021-8b0f4bd06a95-c000.csv', 'part-00001-cfe64d09-75a9-4161-8021-8b0f4bd06a95-c000.csv', 'part-00034-cfe64d09-75a9-4161-8021-8b0f4bd06a95-c000.csv', 'part-00017-cfe64d09-75a9-4161-8021-8b0f4bd06a95-c000.csv', 'part-00038-cfe64d09-75a9-4161-8021-8b0f4bd06a95-c000.csv', 'part-00023-cfe64d09-75a9-4161-8021-8b0f4bd06a95-c000.csv', 'part-00000-cfe64d09-75a9-4161-8021-8b0f4bd06a95-c000.csv']\n"
     ]
    },
    {
     "name": "stderr",
     "output_type": "stream",
     "text": [
      "100%|██████████| 40/40 [01:30<00:00,  2.27s/it]\n"
     ]
    }
   ],
   "source": [
    "## pyspark saves multiple csv files in a specified directory\n",
    "## to get a single csv file, pandas is used to combine these csv files\n",
    "\n",
    "dir = '../dataset/cleaned/cleaned_dataset_from_spark/'\n",
    "\n",
    "all_files = os.listdir(dir)\n",
    "\n",
    "all_files = [f for f in all_files if f.startswith('part')]\n",
    "\n",
    "print(all_files)\n",
    "\n",
    "all_df = []\n",
    "\n",
    "for f in tqdm(all_files):\n",
    "    sub_df = pd.read_csv(os.path.join(dir, f), header=None)\n",
    "    sub_df.columns = join_df.columns\n",
    "    all_df.append(sub_df)\n",
    "\n",
    "final_df = pd.concat(all_df)\n",
    "\n",
    "final_df.to_csv('../dataset/cleaned/cleaned_dataset.csv', index=False)"
   ]
  },
  {
   "cell_type": "code",
   "execution_count": null,
   "metadata": {},
   "outputs": [],
   "source": []
  }
 ],
 "metadata": {
  "kernelspec": {
   "display_name": "Python 3",
   "language": "python",
   "name": "python3"
  },
  "language_info": {
   "codemirror_mode": {
    "name": "ipython",
    "version": 3
   },
   "file_extension": ".py",
   "mimetype": "text/x-python",
   "name": "python",
   "nbconvert_exporter": "python",
   "pygments_lexer": "ipython3",
   "version": "3.9.19"
  }
 },
 "nbformat": 4,
 "nbformat_minor": 2
}
