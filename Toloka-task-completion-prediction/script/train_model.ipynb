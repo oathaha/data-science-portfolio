{
 "cells": [
  {
   "cell_type": "markdown",
   "metadata": {},
   "source": [
    "# Import library"
   ]
  },
  {
   "cell_type": "code",
   "execution_count": 3,
   "metadata": {},
   "outputs": [],
   "source": [
    "import pandas as pd\n",
    "import numpy as np\n",
    "\n",
    "from sklearn.model_selection import GridSearchCV, train_test_split\n",
    "from sklearn.linear_model import LinearRegression, Ridge, Lasso, ElasticNet\n",
    "from sklearn.ensemble import  AdaBoostRegressor, BaggingRegressor\n"
   ]
  },
  {
   "cell_type": "markdown",
   "metadata": {},
   "source": [
    "# Prepare dataset"
   ]
  },
  {
   "cell_type": "code",
   "execution_count": 2,
   "metadata": {},
   "outputs": [],
   "source": [
    "df = pd.read_csv('../dataset/cleaned/train_df.csv')\n",
    "\n",
    "indices = np.arange(len(df))\n",
    "train_idx, test_idx = train_test_split(indices, test_size=0.15)\n",
    "\n",
    "y = df['completion-time-in-minutes']\n",
    "x = df.drop('completion-time-in-minutes', axis=1)\n",
    "\n",
    "\n",
    "del df"
   ]
  },
  {
   "cell_type": "markdown",
   "metadata": {},
   "source": [
    "# Define hyper-parameters for model fine-tuning with grid search"
   ]
  },
  {
   "cell_type": "code",
   "execution_count": null,
   "metadata": {},
   "outputs": [],
   "source": [
    "random_state = 0\n",
    "\n",
    "alpha = [1, 5, 10, 50, 100]\n",
    "solver = ['auto', 'svd', 'lsqr', 'saga']\n",
    "l1_ratio = [0.1, 0.3, 0.5, 0.7, 1.0]\n",
    "max_iter = [100, 500, 1000]\n",
    "n_estimator = [10, 50, 100, 500]\n",
    "learning_rate = [0.1, 0.5, 1.0, 5.0, 10.0]\n"
   ]
  }
 ],
 "metadata": {
  "kernelspec": {
   "display_name": "env_oat",
   "language": "python",
   "name": "python3"
  },
  "language_info": {
   "codemirror_mode": {
    "name": "ipython",
    "version": 3
   },
   "file_extension": ".py",
   "mimetype": "text/x-python",
   "name": "python",
   "nbconvert_exporter": "python",
   "pygments_lexer": "ipython3",
   "version": "3.8.17"
  }
 },
 "nbformat": 4,
 "nbformat_minor": 2
}
