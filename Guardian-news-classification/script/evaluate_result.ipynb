{
 "cells": [
  {
   "cell_type": "code",
   "execution_count": 6,
   "metadata": {},
   "outputs": [],
   "source": [
    "import pandas as pd\n",
    "\n",
    "from sklearn.metrics import classification_report, matthews_corrcoef\n",
    "\n",
    "import pickle"
   ]
  },
  {
   "cell_type": "code",
   "execution_count": 7,
   "metadata": {},
   "outputs": [],
   "source": [
    "gt = pd.read_csv('../dataset/cleaned/test.csv')\n",
    "\n",
    "true_labels_int = gt['label'].tolist()\n",
    "\n",
    "with open('../dataset/cleaned/class2idx.pkl', 'rb') as f:\n",
    "    class2idx = pickle.load(f)"
   ]
  },
  {
   "cell_type": "code",
   "execution_count": 11,
   "metadata": {},
   "outputs": [],
   "source": [
    "def eval_result(result_file_path):\n",
    "    model_name = result_file_path.replace('../generated_result/result_from_','').replace('.txt','')\n",
    "\n",
    "    print('evaluating results from', model_name)\n",
    "\n",
    "    with open(result_file_path) as f:\n",
    "        predictions = f.readlines()\n",
    "\n",
    "    if model_name == 'llama2-7b':\n",
    "        print('done later...')\n",
    "\n",
    "    else:\n",
    "        predictions = [int(s.strip()) for s in predictions]\n",
    "\n",
    "    labels = None\n",
    "\n",
    "\n",
    "    print(classification_report(\n",
    "        true_labels_int, \n",
    "        predictions, \n",
    "        labels = labels,\n",
    "        target_names=list(class2idx.keys())\n",
    "        ))\n",
    "\n",
    "    print('MCC:', round(matthews_corrcoef(true_labels_int, predictions),4)*100,'%')"
   ]
  },
  {
   "cell_type": "code",
   "execution_count": 12,
   "metadata": {},
   "outputs": [
    {
     "name": "stdout",
     "output_type": "stream",
     "text": [
      "evaluating results from bert\n",
      "              precision    recall  f1-score   support\n",
      "\n",
      "       sport       0.99      0.98      0.99       917\n",
      "        film       0.86      0.95      0.90       895\n",
      "       music       0.89      0.94      0.92       785\n",
      "     culture       0.84      0.64      0.72       598\n",
      "        food       0.92      0.97      0.94       580\n",
      "       world       0.91      0.84      0.87       467\n",
      "    business       0.77      0.69      0.73       387\n",
      " environment       0.82      0.85      0.84       344\n",
      "       money       0.88      0.82      0.85       321\n",
      "     fashion       0.93      0.95      0.94       300\n",
      "  technology       0.75      0.90      0.82       254\n",
      "     science       0.81      0.85      0.83       204\n",
      "       games       0.92      0.95      0.94       177\n",
      "\n",
      "    accuracy                           0.88      6229\n",
      "   macro avg       0.87      0.87      0.87      6229\n",
      "weighted avg       0.88      0.88      0.88      6229\n",
      "\n",
      "MCC: 87.11 %\n"
     ]
    }
   ],
   "source": [
    "eval_result('../generated_result/result_from_bert.txt')"
   ]
  },
  {
   "cell_type": "code",
   "execution_count": 13,
   "metadata": {},
   "outputs": [
    {
     "name": "stdout",
     "output_type": "stream",
     "text": [
      "evaluating results from deberta\n",
      "              precision    recall  f1-score   support\n",
      "\n",
      "       sport       0.98      0.99      0.99       917\n",
      "        film       0.88      0.94      0.91       895\n",
      "       music       0.88      0.96      0.92       785\n",
      "     culture       0.79      0.65      0.72       598\n",
      "        food       0.97      0.92      0.95       580\n",
      "       world       0.95      0.81      0.87       467\n",
      "    business       0.73      0.78      0.75       387\n",
      " environment       0.81      0.86      0.84       344\n",
      "       money       0.91      0.76      0.83       321\n",
      "     fashion       0.98      0.89      0.93       300\n",
      "  technology       0.78      0.90      0.84       254\n",
      "     science       0.69      0.92      0.79       204\n",
      "       games       0.94      0.93      0.94       177\n",
      "\n",
      "    accuracy                           0.88      6229\n",
      "   macro avg       0.87      0.87      0.87      6229\n",
      "weighted avg       0.89      0.88      0.88      6229\n",
      "\n",
      "MCC: 87.02 %\n"
     ]
    }
   ],
   "source": [
    "eval_result('../generated_result/result_from_deberta.txt')"
   ]
  },
  {
   "cell_type": "code",
   "execution_count": null,
   "metadata": {},
   "outputs": [],
   "source": []
  }
 ],
 "metadata": {
  "kernelspec": {
   "display_name": "env_oat",
   "language": "python",
   "name": "python3"
  },
  "language_info": {
   "codemirror_mode": {
    "name": "ipython",
    "version": 3
   },
   "file_extension": ".py",
   "mimetype": "text/x-python",
   "name": "python",
   "nbconvert_exporter": "python",
   "pygments_lexer": "ipython3",
   "version": "3.8.17"
  }
 },
 "nbformat": 4,
 "nbformat_minor": 2
}
