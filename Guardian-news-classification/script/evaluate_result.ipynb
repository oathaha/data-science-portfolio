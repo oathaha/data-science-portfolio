{
 "cells": [
  {
   "cell_type": "code",
   "execution_count": 1,
   "metadata": {},
   "outputs": [],
   "source": [
    "import pandas as pd\n",
    "\n",
    "from sklearn.metrics import classification_report, matthews_corrcoef\n",
    "\n",
    "import pickle, random\n",
    "\n",
    "random.seed(0)"
   ]
  },
  {
   "cell_type": "code",
   "execution_count": 2,
   "metadata": {},
   "outputs": [],
   "source": [
    "gt = pd.read_csv('../dataset/cleaned/test.csv')\n",
    "\n",
    "true_labels_int = gt['label'].tolist()\n",
    "\n",
    "with open('../dataset/cleaned/class2idx.pkl', 'rb') as f:\n",
    "    class2idx = pickle.load(f)"
   ]
  },
  {
   "cell_type": "code",
   "execution_count": 7,
   "metadata": {},
   "outputs": [],
   "source": [
    "def eval_result(result_file_path):\n",
    "\n",
    "    if result_file_path != 'baseline':\n",
    "        model_name = result_file_path.replace('../generated_result/result_from_','').replace('-post-processed','').replace('.txt','')\n",
    "\n",
    "        with open(result_file_path) as f:\n",
    "            predictions = f.readlines()\n",
    "\n",
    "        if model_name == 'llama2-7b':\n",
    "            ## some lines contain more than 1 words, so get only the first word\n",
    "\n",
    "            predictions = [s.strip() if len(s.split()) > 0 else '[BLANK]' for s in predictions]\n",
    "            predictions = [s.split()[0].strip() for s in predictions]\n",
    "\n",
    "            ## some lines contain uppercase letters, so make them lowercase so that they match keys in dictionary\n",
    "            predictions = [s.lower() for s in predictions]\n",
    "\n",
    "            predictions = [class2idx.get(s, -1) for s in predictions]\n",
    "\n",
    "            labels = list(class2idx.values()) + [-1]\n",
    "\n",
    "        #     predictions = [int(s.strip()) for s in predictions]\n",
    "\n",
    "        else:\n",
    "            predictions = [int(s.strip()) for s in predictions]\n",
    "            labels = None\n",
    "\n",
    "    else:\n",
    "        model_name = 'baseline'\n",
    "        seq = list(class2idx.values())\n",
    "        weight = [14.67, 14.43, 12.66, 9.56, 9.34, 7.42, 6.16, 5.53, 5.17, 4.79, 4.07, 3.28, 2.91]\n",
    "\n",
    "        predictions = random.choices(seq, weight,k=len(true_labels_int))\n",
    "        labels = None\n",
    "\n",
    "    print('evaluating results from', model_name)\n",
    "\n",
    "    print(classification_report(\n",
    "        true_labels_int, \n",
    "        predictions, \n",
    "        labels = labels,\n",
    "        target_names=list(class2idx.keys())\n",
    "        ))\n",
    "\n",
    "    print('MCC:', round(matthews_corrcoef(true_labels_int, predictions),4)*100,'%')"
   ]
  },
  {
   "cell_type": "code",
   "execution_count": 8,
   "metadata": {},
   "outputs": [
    {
     "name": "stdout",
     "output_type": "stream",
     "text": [
      "evaluating results from llama2-7b\n",
      "              precision    recall  f1-score   support\n",
      "\n",
      "       sport       0.97      0.79      0.87       917\n",
      "        film       0.86      0.87      0.86       895\n",
      "       music       0.86      0.89      0.87       785\n",
      "     culture       0.73      0.18      0.29       598\n",
      "        food       0.91      0.85      0.88       580\n",
      "       world       0.86      0.38      0.53       467\n",
      "    business       0.58      0.75      0.65       387\n",
      " environment       0.82      0.28      0.42       344\n",
      "       money       0.95      0.11      0.20       321\n",
      "     fashion       0.97      0.67      0.79       300\n",
      "  technology       0.60      0.75      0.67       254\n",
      "     science       0.55      0.50      0.52       204\n",
      "       games       0.93      0.79      0.86       177\n",
      "\n",
      "    accuracy                           0.65      6229\n",
      "   macro avg       0.76      0.56      0.60      6229\n",
      "weighted avg       0.84      0.65      0.69      6229\n",
      "\n",
      "MCC: 63.65 %\n"
     ]
    },
    {
     "name": "stderr",
     "output_type": "stream",
     "text": [
      "/home/oathaha/.local/lib/python3.8/site-packages/sklearn/metrics/_classification.py:2561: UserWarning: labels size, 14, does not match size of target_names, 13\n",
      "  warnings.warn(\n",
      "/home/oathaha/.local/lib/python3.8/site-packages/sklearn/metrics/_classification.py:1471: UndefinedMetricWarning: Recall and F-score are ill-defined and being set to 0.0 in labels with no true samples. Use `zero_division` parameter to control this behavior.\n",
      "  _warn_prf(average, modifier, msg_start, len(result))\n",
      "/home/oathaha/.local/lib/python3.8/site-packages/sklearn/metrics/_classification.py:1471: UndefinedMetricWarning: Recall and F-score are ill-defined and being set to 0.0 in labels with no true samples. Use `zero_division` parameter to control this behavior.\n",
      "  _warn_prf(average, modifier, msg_start, len(result))\n",
      "/home/oathaha/.local/lib/python3.8/site-packages/sklearn/metrics/_classification.py:1471: UndefinedMetricWarning: Recall and F-score are ill-defined and being set to 0.0 in labels with no true samples. Use `zero_division` parameter to control this behavior.\n",
      "  _warn_prf(average, modifier, msg_start, len(result))\n"
     ]
    }
   ],
   "source": [
    "eval_result('../generated_result/result_from_llama2-7b-post-processed.txt')"
   ]
  },
  {
   "cell_type": "code",
   "execution_count": 12,
   "metadata": {},
   "outputs": [
    {
     "name": "stdout",
     "output_type": "stream",
     "text": [
      "evaluating results from bert\n",
      "              precision    recall  f1-score   support\n",
      "\n",
      "       sport       0.99      0.98      0.99       917\n",
      "        film       0.86      0.95      0.90       895\n",
      "       music       0.89      0.94      0.92       785\n",
      "     culture       0.84      0.64      0.72       598\n",
      "        food       0.92      0.97      0.94       580\n",
      "       world       0.91      0.84      0.87       467\n",
      "    business       0.77      0.69      0.73       387\n",
      " environment       0.82      0.85      0.84       344\n",
      "       money       0.88      0.82      0.85       321\n",
      "     fashion       0.93      0.95      0.94       300\n",
      "  technology       0.75      0.90      0.82       254\n",
      "     science       0.81      0.85      0.83       204\n",
      "       games       0.92      0.95      0.94       177\n",
      "\n",
      "    accuracy                           0.88      6229\n",
      "   macro avg       0.87      0.87      0.87      6229\n",
      "weighted avg       0.88      0.88      0.88      6229\n",
      "\n",
      "MCC: 87.11 %\n"
     ]
    }
   ],
   "source": [
    "eval_result('../generated_result/result_from_bert.txt')"
   ]
  },
  {
   "cell_type": "code",
   "execution_count": 13,
   "metadata": {},
   "outputs": [
    {
     "name": "stdout",
     "output_type": "stream",
     "text": [
      "evaluating results from deberta\n",
      "              precision    recall  f1-score   support\n",
      "\n",
      "       sport       0.98      0.99      0.99       917\n",
      "        film       0.88      0.94      0.91       895\n",
      "       music       0.88      0.96      0.92       785\n",
      "     culture       0.79      0.65      0.72       598\n",
      "        food       0.97      0.92      0.95       580\n",
      "       world       0.95      0.81      0.87       467\n",
      "    business       0.73      0.78      0.75       387\n",
      " environment       0.81      0.86      0.84       344\n",
      "       money       0.91      0.76      0.83       321\n",
      "     fashion       0.98      0.89      0.93       300\n",
      "  technology       0.78      0.90      0.84       254\n",
      "     science       0.69      0.92      0.79       204\n",
      "       games       0.94      0.93      0.94       177\n",
      "\n",
      "    accuracy                           0.88      6229\n",
      "   macro avg       0.87      0.87      0.87      6229\n",
      "weighted avg       0.89      0.88      0.88      6229\n",
      "\n",
      "MCC: 87.02 %\n"
     ]
    }
   ],
   "source": [
    "eval_result('../generated_result/result_from_deberta.txt')"
   ]
  },
  {
   "cell_type": "code",
   "execution_count": 21,
   "metadata": {},
   "outputs": [
    {
     "name": "stdout",
     "output_type": "stream",
     "text": [
      "evaluating results from baseline\n",
      "              precision    recall  f1-score   support\n",
      "\n",
      "       sport       0.16      0.16      0.16       917\n",
      "        film       0.14      0.14      0.14       895\n",
      "       music       0.12      0.12      0.12       785\n",
      "     culture       0.09      0.08      0.08       598\n",
      "        food       0.11      0.11      0.11       580\n",
      "       world       0.07      0.06      0.07       467\n",
      "    business       0.08      0.08      0.08       387\n",
      " environment       0.06      0.06      0.06       344\n",
      "       money       0.04      0.04      0.04       321\n",
      "     fashion       0.03      0.03      0.03       300\n",
      "  technology       0.05      0.05      0.05       254\n",
      "     science       0.05      0.05      0.05       204\n",
      "       games       0.01      0.02      0.02       177\n",
      "\n",
      "    accuracy                           0.10      6229\n",
      "   macro avg       0.08      0.08      0.08      6229\n",
      "weighted avg       0.10      0.10      0.10      6229\n",
      "\n",
      "MCC: 0.06 %\n"
     ]
    }
   ],
   "source": [
    "eval_result('baseline')"
   ]
  },
  {
   "cell_type": "code",
   "execution_count": null,
   "metadata": {},
   "outputs": [],
   "source": []
  }
 ],
 "metadata": {
  "kernelspec": {
   "display_name": "env_oat",
   "language": "python",
   "name": "python3"
  },
  "language_info": {
   "codemirror_mode": {
    "name": "ipython",
    "version": 3
   },
   "file_extension": ".py",
   "mimetype": "text/x-python",
   "name": "python",
   "nbconvert_exporter": "python",
   "pygments_lexer": "ipython3",
   "version": "3.8.17"
  }
 },
 "nbformat": 4,
 "nbformat_minor": 2
}
