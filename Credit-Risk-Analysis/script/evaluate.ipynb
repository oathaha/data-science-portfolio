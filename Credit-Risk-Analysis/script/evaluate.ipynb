{
 "cells": [
  {
   "cell_type": "markdown",
   "metadata": {},
   "source": [
    "# Import library"
   ]
  },
  {
   "cell_type": "code",
   "execution_count": 1,
   "metadata": {},
   "outputs": [],
   "source": [
    "from sklearn.linear_model import LogisticRegression\n",
    "from sklearn.tree import DecisionTreeClassifier\n",
    "from sklearn.svm import SVC\n",
    "from sklearn.neighbors import KNeighborsClassifier\n",
    "from sklearn.ensemble import  AdaBoostClassifier, BaggingClassifier, RandomForestClassifier, HistGradientBoostingClassifier\n",
    "\n",
    "from sklearn.metrics import classification_report, roc_auc_score, matthews_corrcoef\n",
    "\n",
    "import pandas as pd\n",
    "\n",
    "import pickle, os"
   ]
  },
  {
   "cell_type": "markdown",
   "metadata": {},
   "source": [
    "# Read test set"
   ]
  },
  {
   "cell_type": "code",
   "execution_count": 3,
   "metadata": {},
   "outputs": [],
   "source": [
    "model_subdir = 'loan_approval_prediction'\n",
    "target_col = 'is_approved'\n",
    "\n",
    "df = pd.read_csv('../dataset/cleaned/loan_approval_prediction/test_processed_data.csv')\n",
    "\n",
    "y = df[target_col]\n",
    "x = df.drop([target_col], axis=1)\n",
    "\n"
   ]
  },
  {
   "cell_type": "markdown",
   "metadata": {},
   "source": [
    "# Get evaluation results"
   ]
  },
  {
   "cell_type": "code",
   "execution_count": 15,
   "metadata": {},
   "outputs": [],
   "source": [
    "def eval_result(model_name, imb_data_handling_method):\n",
    "\n",
    "    model_dir = '../model/loan_approval_prediction/{}/{}/'.format(imb_data_handling_method, model_name)\n",
    "\n",
    "    print('loading model from', model_dir)\n",
    "\n",
    "    with open(model_dir + 'model.pkl', 'rb') as f:\n",
    "        model = pickle.load(f)\n",
    "\n",
    "    pred = model.predict(x)\n",
    "    prob = model.predict_proba(x)[:, 1]\n",
    "\n",
    "    result = classification_report(y, pred, output_dict=True)\n",
    "\n",
    "    result_rows = []\n",
    "\n",
    "    print(result)\n",
    "\n",
    "    for k,v in result.items():\n",
    "        data_row = {\n",
    "            'model': model_name,\n",
    "            'data-imbalanced-handling': imb_data_handling_method\n",
    "        }\n",
    "\n",
    "        if k in ['0.0','1.0', 'macro avg']:\n",
    "            data_row['class'] = k\n",
    "            for met, val in v.items():\n",
    "                if met != 'support':\n",
    "                    data_row[met] = round(val,2)\n",
    "            result_rows.append(data_row)\n",
    "\n",
    "    ## store result of each class\n",
    "    result_all_class_df = pd.DataFrame(result_rows)\n",
    "\n",
    "    ## store result of all classes\n",
    "    roc_auc = roc_auc_score(y, prob)\n",
    "    mcc = matthews_corrcoef(y, pred)\n",
    "\n",
    "    result_dict = {\n",
    "        'model': model_name,\n",
    "        'data-imbalanced-handling': imb_data_handling_method,\n",
    "        'AUC': roc_auc,\n",
    "        'MCC': mcc\n",
    "    }\n",
    "\n",
    "    return result_all_class_df, result_dict"
   ]
  },
  {
   "cell_type": "code",
   "execution_count": 16,
   "metadata": {},
   "outputs": [
    {
     "name": "stdout",
     "output_type": "stream",
     "text": [
      "loading model from ../model/loan_approval_prediction/imb-data/DecisionTreeClassifier/\n",
      "{'0.0': {'precision': 0.621191104747416, 'recall': 0.5660292738614588, 'f1-score': 0.5923286969877976, 'support': 24527.0}, '1.0': {'precision': 0.9103142036214726, 'recall': 0.927332343373132, 'f1-score': 0.9187444724130893, 'support': 116503.0}, 'accuracy': 0.864496915549883, 'macro avg': {'precision': 0.7657526541844444, 'recall': 0.7466808086172954, 'f1-score': 0.7555365847004434, 'support': 141030.0}, 'weighted avg': {'precision': 0.8600318364224088, 'recall': 0.864496915549883, 'f1-score': 0.8619764108385581, 'support': 141030.0}}\n"
     ]
    }
   ],
   "source": [
    "result_dir = '../result/'\n",
    "task_name = 'loan_approval_prediction'\n",
    "\n",
    "## just for testing\n",
    "model_names = ['DecisionTreeClassifier']\n",
    "data_imb_handling_methods = ['imb-data']\n",
    "\n",
    "alL_result_df = []\n",
    "all_result_rows = []\n",
    "\n",
    "for model_name in model_names:\n",
    "    for method in data_imb_handling_methods:\n",
    "        result_all_class_df, result_dict = eval_result(model_name, method)\n",
    "\n",
    "        alL_result_df.append(result_all_class_df)\n",
    "        all_result_rows.append(result_dict)  "
   ]
  },
  {
   "cell_type": "code",
   "execution_count": 13,
   "metadata": {},
   "outputs": [
    {
     "data": {
      "text/html": [
       "<div>\n",
       "<style scoped>\n",
       "    .dataframe tbody tr th:only-of-type {\n",
       "        vertical-align: middle;\n",
       "    }\n",
       "\n",
       "    .dataframe tbody tr th {\n",
       "        vertical-align: top;\n",
       "    }\n",
       "\n",
       "    .dataframe thead th {\n",
       "        text-align: right;\n",
       "    }\n",
       "</style>\n",
       "<table border=\"1\" class=\"dataframe\">\n",
       "  <thead>\n",
       "    <tr style=\"text-align: right;\">\n",
       "      <th></th>\n",
       "      <th>model</th>\n",
       "      <th>data-imbalanced-handling</th>\n",
       "      <th>class</th>\n",
       "      <th>precision</th>\n",
       "      <th>recall</th>\n",
       "      <th>f1-score</th>\n",
       "    </tr>\n",
       "  </thead>\n",
       "  <tbody>\n",
       "    <tr>\n",
       "      <th>0</th>\n",
       "      <td>DecisionTreeClassifier</td>\n",
       "      <td>imb-data</td>\n",
       "      <td>macro avg</td>\n",
       "      <td>0.77</td>\n",
       "      <td>0.75</td>\n",
       "      <td>0.76</td>\n",
       "    </tr>\n",
       "    <tr>\n",
       "      <th>0</th>\n",
       "      <td>KNeighborsClassifier</td>\n",
       "      <td>imb-data</td>\n",
       "      <td>macro avg</td>\n",
       "      <td>0.79</td>\n",
       "      <td>0.74</td>\n",
       "      <td>0.76</td>\n",
       "    </tr>\n",
       "  </tbody>\n",
       "</table>\n",
       "</div>"
      ],
      "text/plain": [
       "                    model data-imbalanced-handling      class  precision  \\\n",
       "0  DecisionTreeClassifier                 imb-data  macro avg       0.77   \n",
       "0    KNeighborsClassifier                 imb-data  macro avg       0.79   \n",
       "\n",
       "   recall  f1-score  \n",
       "0    0.75      0.76  \n",
       "0    0.74      0.76  "
      ]
     },
     "execution_count": 13,
     "metadata": {},
     "output_type": "execute_result"
    }
   ],
   "source": [
    "pd.concat(alL_result_df)"
   ]
  },
  {
   "cell_type": "code",
   "execution_count": 17,
   "metadata": {},
   "outputs": [
    {
     "data": {
      "text/html": [
       "<div>\n",
       "<style scoped>\n",
       "    .dataframe tbody tr th:only-of-type {\n",
       "        vertical-align: middle;\n",
       "    }\n",
       "\n",
       "    .dataframe tbody tr th {\n",
       "        vertical-align: top;\n",
       "    }\n",
       "\n",
       "    .dataframe thead th {\n",
       "        text-align: right;\n",
       "    }\n",
       "</style>\n",
       "<table border=\"1\" class=\"dataframe\">\n",
       "  <thead>\n",
       "    <tr style=\"text-align: right;\">\n",
       "      <th></th>\n",
       "      <th>model</th>\n",
       "      <th>data-imbalanced-handling</th>\n",
       "      <th>AUC</th>\n",
       "      <th>MCC</th>\n",
       "    </tr>\n",
       "  </thead>\n",
       "  <tbody>\n",
       "    <tr>\n",
       "      <th>0</th>\n",
       "      <td>DecisionTreeClassifier</td>\n",
       "      <td>imb-data</td>\n",
       "      <td>0.84074</td>\n",
       "      <td>0.512078</td>\n",
       "    </tr>\n",
       "  </tbody>\n",
       "</table>\n",
       "</div>"
      ],
      "text/plain": [
       "                    model data-imbalanced-handling      AUC       MCC\n",
       "0  DecisionTreeClassifier                 imb-data  0.84074  0.512078"
      ]
     },
     "execution_count": 17,
     "metadata": {},
     "output_type": "execute_result"
    }
   ],
   "source": [
    "pd.DataFrame(all_result_rows)"
   ]
  },
  {
   "cell_type": "code",
   "execution_count": null,
   "metadata": {},
   "outputs": [],
   "source": [
    "final_result_each_class_df = pd.concat(alL_result_df)\n",
    "final_result_all_class_df = pd.DataFrame(all_result_rows)\n",
    "\n",
    "# final_result_each_class_df.to_csv(os.path.join(result_dir, '{}_result_each_class.csv'.format(task_name)), index=False)\n",
    "# final_result_all_class_df.to_csv(os.path.join(result_dir, '{}_result_all_class.csv'.format(task_name)), index=False)"
   ]
  },
  {
   "cell_type": "code",
   "execution_count": 5,
   "metadata": {},
   "outputs": [
    {
     "name": "stdout",
     "output_type": "stream",
     "text": [
      "{'0': {'precision': 0.5, 'recall': 1.0, 'f1-score': 0.6666666666666666, 'support': 1.0}, '1': {'precision': 0.0, 'recall': 0.0, 'f1-score': 0.0, 'support': 1.0}, '2': {'precision': 1.0, 'recall': 0.6666666666666666, 'f1-score': 0.8, 'support': 3.0}, 'accuracy': 0.6, 'macro avg': {'precision': 0.5, 'recall': 0.5555555555555555, 'f1-score': 0.48888888888888893, 'support': 5.0}, 'weighted avg': {'precision': 0.7, 'recall': 0.6, 'f1-score': 0.6133333333333334, 'support': 5.0}}\n"
     ]
    }
   ],
   "source": [
    "## just for testing\n",
    "\n",
    "y_true = [0, 1, 2, 2, 2]\n",
    "y_pred = [0, 0, 2, 2, 1]\n",
    "target_names = ['class 0', 'class 1', 'class 2']\n",
    "\n",
    "result = classification_report(y_true, y_pred, output_dict=True)\n",
    "\n",
    "print(result)"
   ]
  },
  {
   "cell_type": "code",
   "execution_count": 6,
   "metadata": {},
   "outputs": [
    {
     "data": {
      "text/plain": [
       "{'0': {'precision': 0.5,\n",
       "  'recall': 1.0,\n",
       "  'f1-score': 0.6666666666666666,\n",
       "  'support': 1.0},\n",
       " '1': {'precision': 0.0, 'recall': 0.0, 'f1-score': 0.0, 'support': 1.0},\n",
       " '2': {'precision': 1.0,\n",
       "  'recall': 0.6666666666666666,\n",
       "  'f1-score': 0.8,\n",
       "  'support': 3.0},\n",
       " 'accuracy': 0.6,\n",
       " 'macro avg': {'precision': 0.5,\n",
       "  'recall': 0.5555555555555555,\n",
       "  'f1-score': 0.48888888888888893,\n",
       "  'support': 5.0},\n",
       " 'weighted avg': {'precision': 0.7,\n",
       "  'recall': 0.6,\n",
       "  'f1-score': 0.6133333333333334,\n",
       "  'support': 5.0}}"
      ]
     },
     "execution_count": 6,
     "metadata": {},
     "output_type": "execute_result"
    }
   ],
   "source": [
    "result"
   ]
  },
  {
   "cell_type": "code",
   "execution_count": 7,
   "metadata": {},
   "outputs": [
    {
     "data": {
      "text/html": [
       "<div>\n",
       "<style scoped>\n",
       "    .dataframe tbody tr th:only-of-type {\n",
       "        vertical-align: middle;\n",
       "    }\n",
       "\n",
       "    .dataframe tbody tr th {\n",
       "        vertical-align: top;\n",
       "    }\n",
       "\n",
       "    .dataframe thead th {\n",
       "        text-align: right;\n",
       "    }\n",
       "</style>\n",
       "<table border=\"1\" class=\"dataframe\">\n",
       "  <thead>\n",
       "    <tr style=\"text-align: right;\">\n",
       "      <th></th>\n",
       "      <th>class</th>\n",
       "      <th>precision</th>\n",
       "      <th>recall</th>\n",
       "      <th>f1-score</th>\n",
       "    </tr>\n",
       "  </thead>\n",
       "  <tbody>\n",
       "    <tr>\n",
       "      <th>0</th>\n",
       "      <td>0</td>\n",
       "      <td>0.5</td>\n",
       "      <td>1.00</td>\n",
       "      <td>0.67</td>\n",
       "    </tr>\n",
       "    <tr>\n",
       "      <th>1</th>\n",
       "      <td>1</td>\n",
       "      <td>0.0</td>\n",
       "      <td>0.00</td>\n",
       "      <td>0.00</td>\n",
       "    </tr>\n",
       "    <tr>\n",
       "      <th>2</th>\n",
       "      <td>2</td>\n",
       "      <td>1.0</td>\n",
       "      <td>0.67</td>\n",
       "      <td>0.80</td>\n",
       "    </tr>\n",
       "    <tr>\n",
       "      <th>3</th>\n",
       "      <td>macro avg</td>\n",
       "      <td>0.5</td>\n",
       "      <td>0.56</td>\n",
       "      <td>0.49</td>\n",
       "    </tr>\n",
       "  </tbody>\n",
       "</table>\n",
       "</div>"
      ],
      "text/plain": [
       "       class  precision  recall  f1-score\n",
       "0          0        0.5    1.00      0.67\n",
       "1          1        0.0    0.00      0.00\n",
       "2          2        1.0    0.67      0.80\n",
       "3  macro avg        0.5    0.56      0.49"
      ]
     },
     "execution_count": 7,
     "metadata": {},
     "output_type": "execute_result"
    }
   ],
   "source": [
    "## just for testing\n",
    "# each row has model_name, class_num and macro, prec, rec, f1, \n",
    "data_rows = []\n",
    "\n",
    "for k,v in result.items():\n",
    "    data_row = {}\n",
    "    if k in ['0','1','2', 'macro avg']:\n",
    "        data_row['class'] = k\n",
    "        for met, val in v.items():\n",
    "            if met != 'support':\n",
    "                data_row[met] = round(val,2)\n",
    "        data_rows.append(data_row)\n",
    "\n",
    "pd.DataFrame(data_rows)"
   ]
  },
  {
   "cell_type": "code",
   "execution_count": null,
   "metadata": {},
   "outputs": [],
   "source": []
  }
 ],
 "metadata": {
  "kernelspec": {
   "display_name": "env_oat",
   "language": "python",
   "name": "python3"
  },
  "language_info": {
   "codemirror_mode": {
    "name": "ipython",
    "version": 3
   },
   "file_extension": ".py",
   "mimetype": "text/x-python",
   "name": "python",
   "nbconvert_exporter": "python",
   "pygments_lexer": "ipython3",
   "version": "3.8.11"
  }
 },
 "nbformat": 4,
 "nbformat_minor": 2
}
