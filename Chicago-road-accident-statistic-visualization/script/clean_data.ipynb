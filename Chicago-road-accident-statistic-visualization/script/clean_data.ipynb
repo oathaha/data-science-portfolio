{
 "cells": [
  {
   "cell_type": "code",
   "execution_count": 1,
   "metadata": {},
   "outputs": [],
   "source": [
    "from pyspark.sql import SparkSession\n",
    "from pyspark.sql.functions import from_unixtime, col, isnan, when, count, to_date, unix_timestamp, date_format, to_timestamp, lit\n",
    "\n",
    "import pandas as pd\n",
    "\n",
    "import os"
   ]
  },
  {
   "cell_type": "code",
   "execution_count": 2,
   "metadata": {},
   "outputs": [
    {
     "name": "stderr",
     "output_type": "stream",
     "text": [
      "Setting default log level to \"WARN\".\n",
      "To adjust logging level use sc.setLogLevel(newLevel). For SparkR, use setLogLevel(newLevel).\n",
      "24/08/13 14:13:18 WARN NativeCodeLoader: Unable to load native-hadoop library for your platform... using builtin-java classes where applicable\n"
     ]
    }
   ],
   "source": [
    "spark = SparkSession.builder.master(\"local[*]\").config(\"spark.driver.memory\", \"15g\").config(\"spark.driver.maxResultSize\", \"8g\").getOrCreate()"
   ]
  },
  {
   "cell_type": "markdown",
   "metadata": {},
   "source": [
    "## Import dataset"
   ]
  },
  {
   "cell_type": "code",
   "execution_count": 3,
   "metadata": {},
   "outputs": [],
   "source": [
    "raw_data_dir = '../dataset/raw/'\n",
    "cleaned_data_dir = '../dataset/cleaned/'\n",
    "\n",
    "incident_report = spark.read.csv(os.path.join(raw_data_dir, 'Traffic_Crashes_Incidents.csv'), sep=',', header=True)\n",
    "people_info = spark.read.csv(os.path.join(raw_data_dir, 'Traffic_Crashes_People.csv'), sep=',', header=True)"
   ]
  },
  {
   "cell_type": "code",
   "execution_count": 4,
   "metadata": {},
   "outputs": [
    {
     "name": "stderr",
     "output_type": "stream",
     "text": [
      "24/08/13 14:13:24 WARN package: Truncated the string representation of a plan since it was too large. This behavior can be adjusted by setting 'spark.sql.debug.maxToStringFields'.\n"
     ]
    },
    {
     "name": "stdout",
     "output_type": "stream",
     "text": [
      "+--------------------+----------------+--------------------+------------------+----------------------+--------------------+-----------------+--------------------+--------------------+--------------------+--------+------------------+--------------------+-----------+-----------+--------------------+----------------------+------------------+-------------+-----------+--------------------+-----------------------+----------------------+---------+----------------+-----------------+------------------+--------------+------------------+---------+-----------+--------------+-----------------+---------+--------------------+--------------+--------------+-----------------------+---------------------------+-----------------------------+----------------------+----------------+----------+-----------------+-----------+------------+-------------+--------------------+\n",
      "|     CRASH_RECORD_ID|CRASH_DATE_EST_I|          CRASH_DATE|POSTED_SPEED_LIMIT|TRAFFIC_CONTROL_DEVICE|    DEVICE_CONDITION|WEATHER_CONDITION|  LIGHTING_CONDITION|    FIRST_CRASH_TYPE|     TRAFFICWAY_TYPE|LANE_CNT|         ALIGNMENT|ROADWAY_SURFACE_COND|ROAD_DEFECT|REPORT_TYPE|          CRASH_TYPE|INTERSECTION_RELATED_I|NOT_RIGHT_OF_WAY_I|HIT_AND_RUN_I|     DAMAGE|DATE_POLICE_NOTIFIED|PRIM_CONTRIBUTORY_CAUSE|SEC_CONTRIBUTORY_CAUSE|STREET_NO|STREET_DIRECTION|      STREET_NAME|BEAT_OF_OCCURRENCE|PHOTOS_TAKEN_I|STATEMENTS_TAKEN_I|DOORING_I|WORK_ZONE_I|WORK_ZONE_TYPE|WORKERS_PRESENT_I|NUM_UNITS|  MOST_SEVERE_INJURY|INJURIES_TOTAL|INJURIES_FATAL|INJURIES_INCAPACITATING|INJURIES_NON_INCAPACITATING|INJURIES_REPORTED_NOT_EVIDENT|INJURIES_NO_INDICATION|INJURIES_UNKNOWN|CRASH_HOUR|CRASH_DAY_OF_WEEK|CRASH_MONTH|    LATITUDE|    LONGITUDE|            LOCATION|\n",
      "+--------------------+----------------+--------------------+------------------+----------------------+--------------------+-----------------+--------------------+--------------------+--------------------+--------+------------------+--------------------+-----------+-----------+--------------------+----------------------+------------------+-------------+-----------+--------------------+-----------------------+----------------------+---------+----------------+-----------------+------------------+--------------+------------------+---------+-----------+--------------+-----------------+---------+--------------------+--------------+--------------+-----------------------+---------------------------+-----------------------------+----------------------+----------------+----------+-----------------+-----------+------------+-------------+--------------------+\n",
      "|23a79931ef555d541...|            null|09/05/2023 07:05:...|                30|        TRAFFIC SIGNAL|FUNCTIONING PROPERLY|            CLEAR|                DUSK|               ANGLE| FIVE POINT, OR MORE|    null|STRAIGHT AND LEVEL|                 DRY| NO DEFECTS|   ON SCENE|INJURY AND / OR T...|                     Y|              null|         null|OVER $1,500|09/05/2023 07:05:...|    UNABLE TO DETERMINE|        NOT APPLICABLE|     5500|               S|    WENTWORTH AVE|               225|          null|              null|     null|       null|          null|             null|        2|INCAPACITATING IN...|             3|             0|                      1|                          2|                            0|                     2|               0|        19|                3|          9|        null|         null|                null|\n",
      "|2675c13fd0f474d73...|            null|09/22/2023 06:45:...|                50|           NO CONTROLS|         NO CONTROLS|            CLEAR|DARKNESS, LIGHTED...|            REAR END|DIVIDED - W/MEDIA...|    null|STRAIGHT AND LEVEL|                 DRY| NO DEFECTS|   ON SCENE|NO INJURY / DRIVE...|                  null|              null|         null|OVER $1,500|09/22/2023 06:50:...|   FOLLOWING TOO CLO...|  FOLLOWING TOO CLO...|     7900|               S|CHICAGO SKYWAY OB|               411|          null|              null|     null|       null|          null|             null|        2|NO INDICATION OF ...|             0|             0|                      0|                          0|                            0|                     2|               0|        18|                6|          9|        null|         null|                null|\n",
      "|5f54a59fcb087b12a...|            null|07/29/2023 02:45:...|                30|        TRAFFIC SIGNAL|FUNCTIONING PROPERLY|            CLEAR|            DAYLIGHT|PARKED MOTOR VEHICLE|DIVIDED - W/MEDIA...|    null|STRAIGHT AND LEVEL|                 DRY| NO DEFECTS|   ON SCENE|NO INJURY / DRIVE...|                  null|              null|            Y|OVER $1,500|07/29/2023 02:45:...|   FAILING TO REDUCE...|  OPERATING VEHICLE...|     2101|               S|      ASHLAND AVE|              1235|          null|              null|     null|       null|          null|             null|        4|NO INDICATION OF ...|             0|             0|                      0|                          0|                            0|                     1|               0|        14|                7|          7|41.854120263|-87.665902343|POINT (-87.665902...|\n",
      "|7ebf015016f83d09b...|            null|08/09/2023 11:00:...|                30|           NO CONTROLS|         NO CONTROLS|            CLEAR|DARKNESS, LIGHTED...|SIDESWIPE SAME DI...|         NOT DIVIDED|    null|STRAIGHT AND LEVEL|                 DRY| NO DEFECTS|   ON SCENE|NO INJURY / DRIVE...|                  null|              null|         null|OVER $1,500|08/09/2023 11:40:...|   FAILING TO YIELD ...|        NOT APPLICABLE|    10020|               W|     BALMORAL AVE|              1650|          null|              null|     null|       null|          null|             null|        2|NO INDICATION OF ...|             0|             0|                      0|                          0|                            0|                     2|               0|        23|                4|          8|        null|         null|                null|\n",
      "|6c1659069e9c6285a...|            null|08/18/2023 12:50:...|                15|                 OTHER|FUNCTIONING PROPERLY|            CLEAR|            DAYLIGHT|            REAR END|               OTHER|    null|STRAIGHT AND LEVEL|                 DRY| NO DEFECTS|   ON SCENE|INJURY AND / OR T...|                  null|              null|         null|OVER $1,500|08/18/2023 12:55:...|   FOLLOWING TOO CLO...|  DISTRACTION - FRO...|      700|               W|         OHARE ST|              1654|          null|              null|     null|       null|          null|             null|        2|NONINCAPACITATING...|             1|             0|                      0|                          1|                            0|                     1|               0|        12|                6|          8|        null|         null|                null|\n",
      "+--------------------+----------------+--------------------+------------------+----------------------+--------------------+-----------------+--------------------+--------------------+--------------------+--------+------------------+--------------------+-----------+-----------+--------------------+----------------------+------------------+-------------+-----------+--------------------+-----------------------+----------------------+---------+----------------+-----------------+------------------+--------------+------------------+---------+-----------+--------------+-----------------+---------+--------------------+--------------+--------------+-----------------------+---------------------------+-----------------------------+----------------------+----------------+----------+-----------------+-----------+------------+-------------+--------------------+\n",
      "only showing top 5 rows\n",
      "\n",
      "['CRASH_RECORD_ID', 'CRASH_DATE_EST_I', 'CRASH_DATE', 'POSTED_SPEED_LIMIT', 'TRAFFIC_CONTROL_DEVICE', 'DEVICE_CONDITION', 'WEATHER_CONDITION', 'LIGHTING_CONDITION', 'FIRST_CRASH_TYPE', 'TRAFFICWAY_TYPE', 'LANE_CNT', 'ALIGNMENT', 'ROADWAY_SURFACE_COND', 'ROAD_DEFECT', 'REPORT_TYPE', 'CRASH_TYPE', 'INTERSECTION_RELATED_I', 'NOT_RIGHT_OF_WAY_I', 'HIT_AND_RUN_I', 'DAMAGE', 'DATE_POLICE_NOTIFIED', 'PRIM_CONTRIBUTORY_CAUSE', 'SEC_CONTRIBUTORY_CAUSE', 'STREET_NO', 'STREET_DIRECTION', 'STREET_NAME', 'BEAT_OF_OCCURRENCE', 'PHOTOS_TAKEN_I', 'STATEMENTS_TAKEN_I', 'DOORING_I', 'WORK_ZONE_I', 'WORK_ZONE_TYPE', 'WORKERS_PRESENT_I', 'NUM_UNITS', 'MOST_SEVERE_INJURY', 'INJURIES_TOTAL', 'INJURIES_FATAL', 'INJURIES_INCAPACITATING', 'INJURIES_NON_INCAPACITATING', 'INJURIES_REPORTED_NOT_EVIDENT', 'INJURIES_NO_INDICATION', 'INJURIES_UNKNOWN', 'CRASH_HOUR', 'CRASH_DAY_OF_WEEK', 'CRASH_MONTH', 'LATITUDE', 'LONGITUDE', 'LOCATION']\n"
     ]
    }
   ],
   "source": [
    "incident_report.show(5)\n",
    "print(incident_report.columns)"
   ]
  },
  {
   "cell_type": "code",
   "execution_count": 5,
   "metadata": {},
   "outputs": [
    {
     "name": "stdout",
     "output_type": "stream",
     "text": [
      "+---------+-----------+--------------------+----------+--------------------+-------+-------+-----+-------+---+----+---------------------+---------------------+----------------+------------------+--------+---------------------+--------+----------+----------+----------------+-------------+------------------+---------------+-------------------+-----------------+----------------+----------------+--------------+\n",
      "|PERSON_ID|PERSON_TYPE|     CRASH_RECORD_ID|VEHICLE_ID|          CRASH_DATE|SEAT_NO|   CITY|STATE|ZIPCODE|SEX| AGE|DRIVERS_LICENSE_STATE|DRIVERS_LICENSE_CLASS|SAFETY_EQUIPMENT|   AIRBAG_DEPLOYED|EJECTION|INJURY_CLASSIFICATION|HOSPITAL|EMS_AGENCY|EMS_RUN_NO|   DRIVER_ACTION|DRIVER_VISION|PHYSICAL_CONDITION|PEDPEDAL_ACTION|PEDPEDAL_VISIBILITY|PEDPEDAL_LOCATION|      BAC_RESULT|BAC_RESULT VALUE|CELL_PHONE_USE|\n",
      "+---------+-----------+--------------------+----------+--------------------+-------+-------+-----+-------+---+----+---------------------+---------------------+----------------+------------------+--------+---------------------+--------+----------+----------+----------------+-------------+------------------+---------------+-------------------+-----------------+----------------+----------------+--------------+\n",
      "|  O749947|     DRIVER|81dc0de2ed92aa62b...|    834816|09/28/2019 03:30:...|   null|CHICAGO|   IL|  60651|  M|  25|                   IL|                    D|    NONE PRESENT|DEPLOYMENT UNKNOWN|    NONE| NO INDICATION OF ...|    null|      null|      null|         UNKNOWN|      UNKNOWN|           UNKNOWN|           null|               null|             null|TEST NOT OFFERED|            null|          null|\n",
      "|  O871921|     DRIVER|af84fb5c8d996fcd3...|    827212|04/13/2020 10:50:...|   null|CHICAGO|   IL|  60620|  M|  37|                   IL|                 null|SAFETY BELT USED|    DID NOT DEPLOY|    NONE| NO INDICATION OF ...|    null|      null|      null|            NONE| NOT OBSCURED|            NORMAL|           null|               null|             null|TEST NOT OFFERED|            null|          null|\n",
      "|   O10018|     DRIVER|71162af7bf22799b7...|      9579|11/01/2015 05:00:...|   null|   null| null|   null|  X|null|                 null|                 null|   USAGE UNKNOWN|DEPLOYMENT UNKNOWN|    NONE| NO INDICATION OF ...|    null|      null|      null|IMPROPER BACKING|      UNKNOWN|           UNKNOWN|           null|               null|             null|TEST NOT OFFERED|            null|          null|\n",
      "|   O10038|     DRIVER|c21c476e2ccc41af5...|      9598|11/01/2015 08:00:...|   null|   null| null|   null|  X|null|                 null|                 null|   USAGE UNKNOWN|DEPLOYMENT UNKNOWN| UNKNOWN| NO INDICATION OF ...|    null|      null|      null|         UNKNOWN|      UNKNOWN|           UNKNOWN|           null|               null|             null|TEST NOT OFFERED|            null|          null|\n",
      "|   O10039|     DRIVER|eb390a4c8e114c694...|      9600|11/01/2015 10:15:...|   null|   null| null|   null|  X|null|                 null|                 null|   USAGE UNKNOWN|DEPLOYMENT UNKNOWN| UNKNOWN| NO INDICATION OF ...|    null|      null|      null|         UNKNOWN|      UNKNOWN|           UNKNOWN|           null|               null|             null|TEST NOT OFFERED|            null|          null|\n",
      "+---------+-----------+--------------------+----------+--------------------+-------+-------+-----+-------+---+----+---------------------+---------------------+----------------+------------------+--------+---------------------+--------+----------+----------+----------------+-------------+------------------+---------------+-------------------+-----------------+----------------+----------------+--------------+\n",
      "only showing top 5 rows\n",
      "\n",
      "['PERSON_ID', 'PERSON_TYPE', 'CRASH_RECORD_ID', 'VEHICLE_ID', 'CRASH_DATE', 'SEAT_NO', 'CITY', 'STATE', 'ZIPCODE', 'SEX', 'AGE', 'DRIVERS_LICENSE_STATE', 'DRIVERS_LICENSE_CLASS', 'SAFETY_EQUIPMENT', 'AIRBAG_DEPLOYED', 'EJECTION', 'INJURY_CLASSIFICATION', 'HOSPITAL', 'EMS_AGENCY', 'EMS_RUN_NO', 'DRIVER_ACTION', 'DRIVER_VISION', 'PHYSICAL_CONDITION', 'PEDPEDAL_ACTION', 'PEDPEDAL_VISIBILITY', 'PEDPEDAL_LOCATION', 'BAC_RESULT', 'BAC_RESULT VALUE', 'CELL_PHONE_USE']\n"
     ]
    }
   ],
   "source": [
    "people_info.show(5)\n",
    "print(people_info.columns)"
   ]
  },
  {
   "cell_type": "markdown",
   "metadata": {},
   "source": [
    "## Get columns for further plots"
   ]
  },
  {
   "cell_type": "code",
   "execution_count": 6,
   "metadata": {},
   "outputs": [],
   "source": [
    "incident_report = incident_report.select(['CRASH_RECORD_ID', 'CRASH_DATE', 'POSTED_SPEED_LIMIT', 'TRAFFIC_CONTROL_DEVICE', 'DEVICE_CONDITION', 'WEATHER_CONDITION', 'LIGHTING_CONDITION', 'FIRST_CRASH_TYPE', 'TRAFFICWAY_TYPE', 'LANE_CNT', 'ALIGNMENT', 'ROADWAY_SURFACE_COND', 'ROAD_DEFECT', 'CRASH_TYPE', 'INTERSECTION_RELATED_I', 'NOT_RIGHT_OF_WAY_I', 'HIT_AND_RUN_I', 'PRIM_CONTRIBUTORY_CAUSE', 'SEC_CONTRIBUTORY_CAUSE', 'DOORING_I', 'WORK_ZONE_I', 'WORK_ZONE_TYPE', 'WORKERS_PRESENT_I', 'INJURIES_TOTAL', 'INJURIES_FATAL', 'INJURIES_INCAPACITATING', 'INJURIES_NON_INCAPACITATING', 'INJURIES_REPORTED_NOT_EVIDENT', 'INJURIES_NO_INDICATION', 'INJURIES_UNKNOWN', 'CRASH_HOUR', 'CRASH_DAY_OF_WEEK', 'CRASH_MONTH'])\n",
    "\n",
    "people_info = people_info.select(['PERSON_ID', 'PERSON_TYPE', 'CRASH_RECORD_ID', 'STATE',  'SEX', 'AGE', 'SAFETY_EQUIPMENT', 'AIRBAG_DEPLOYED', 'EJECTION', 'INJURY_CLASSIFICATION', 'DRIVER_ACTION', 'DRIVER_VISION', 'PHYSICAL_CONDITION', 'PEDPEDAL_ACTION', 'PEDPEDAL_VISIBILITY', 'PEDPEDAL_LOCATION', 'BAC_RESULT', 'BAC_RESULT VALUE', 'CELL_PHONE_USE'])"
   ]
  },
  {
   "cell_type": "markdown",
   "metadata": {},
   "source": [
    "## Handle nan/null value\n",
    "\n",
    "replace nan in all columns of `incident_report` and `people_info` dataframes with *UNKNOWN* value"
   ]
  },
  {
   "cell_type": "code",
   "execution_count": 7,
   "metadata": {},
   "outputs": [
    {
     "name": "stderr",
     "output_type": "stream",
     "text": [
      "[Stage 4:======================================>                   (8 + 4) / 12]\r"
     ]
    },
    {
     "name": "stdout",
     "output_type": "stream",
     "text": [
      "+---------------+----------+------------------+----------------------+----------------+-----------------+------------------+----------------+---------------+--------+---------+--------------------+-----------+----------+----------------------+------------------+-------------+-----------------------+----------------------+---------+-----------+--------------+-----------------+--------------+--------------+-----------------------+---------------------------+-----------------------------+----------------------+----------------+----------+-----------------+-----------+\n",
      "|CRASH_RECORD_ID|CRASH_DATE|POSTED_SPEED_LIMIT|TRAFFIC_CONTROL_DEVICE|DEVICE_CONDITION|WEATHER_CONDITION|LIGHTING_CONDITION|FIRST_CRASH_TYPE|TRAFFICWAY_TYPE|LANE_CNT|ALIGNMENT|ROADWAY_SURFACE_COND|ROAD_DEFECT|CRASH_TYPE|INTERSECTION_RELATED_I|NOT_RIGHT_OF_WAY_I|HIT_AND_RUN_I|PRIM_CONTRIBUTORY_CAUSE|SEC_CONTRIBUTORY_CAUSE|DOORING_I|WORK_ZONE_I|WORK_ZONE_TYPE|WORKERS_PRESENT_I|INJURIES_TOTAL|INJURIES_FATAL|INJURIES_INCAPACITATING|INJURIES_NON_INCAPACITATING|INJURIES_REPORTED_NOT_EVIDENT|INJURIES_NO_INDICATION|INJURIES_UNKNOWN|CRASH_HOUR|CRASH_DAY_OF_WEEK|CRASH_MONTH|\n",
      "+---------------+----------+------------------+----------------------+----------------+-----------------+------------------+----------------+---------------+--------+---------+--------------------+-----------+----------+----------------------+------------------+-------------+-----------------------+----------------------+---------+-----------+--------------+-----------------+--------------+--------------+-----------------------+---------------------------+-----------------------------+----------------------+----------------+----------+-----------------+-----------+\n",
      "|              0|         0|                 0|                     0|               0|                0|                 0|               0|              0|  662142|        0|                   0|          0|         0|                663739|            821701|       591254|                      0|                     0|   858460|     856282|        857395|           859906|          1890|          1890|                   1890|                       1890|                         1890|                  1890|            1890|         0|                0|          0|\n",
      "+---------------+----------+------------------+----------------------+----------------+-----------------+------------------+----------------+---------------+--------+---------+--------------------+-----------+----------+----------------------+------------------+-------------+-----------------------+----------------------+---------+-----------+--------------+-----------------+--------------+--------------+-----------------------+---------------------------+-----------------------------+----------------------+----------------+----------+-----------------+-----------+\n",
      "\n"
     ]
    },
    {
     "name": "stderr",
     "output_type": "stream",
     "text": [
      "                                                                                \r"
     ]
    }
   ],
   "source": [
    "incident_report.select([count(when(isnan(c) | col(c).isNull(), c)).alias(c) for c in incident_report.columns]).show()"
   ]
  },
  {
   "cell_type": "code",
   "execution_count": 8,
   "metadata": {},
   "outputs": [
    {
     "name": "stderr",
     "output_type": "stream",
     "text": [
      "[Stage 7:======================================>                   (8 + 4) / 12]\r"
     ]
    },
    {
     "name": "stdout",
     "output_type": "stream",
     "text": [
      "+---------+-----------+---------------+------+-----+------+----------------+---------------+--------+---------------------+-------------+-------------+------------------+---------------+-------------------+-----------------+----------+----------------+--------------+\n",
      "|PERSON_ID|PERSON_TYPE|CRASH_RECORD_ID| STATE|  SEX|   AGE|SAFETY_EQUIPMENT|AIRBAG_DEPLOYED|EJECTION|INJURY_CLASSIFICATION|DRIVER_ACTION|DRIVER_VISION|PHYSICAL_CONDITION|PEDPEDAL_ACTION|PEDPEDAL_VISIBILITY|PEDPEDAL_LOCATION|BAC_RESULT|BAC_RESULT VALUE|CELL_PHONE_USE|\n",
      "+---------+-----------+---------------+------+-----+------+----------------+---------------+--------+---------------------+-------------+-------------+------------------+---------------+-------------------+-----------------+----------+----------------+--------------+\n",
      "|        0|          0|              0|494261|31714|551590|            5257|          36771|   23511|                  737|       386076|       386640|            385049|        1854586|            1854653|          1854586|    385124|         1888958|       1889881|\n",
      "+---------+-----------+---------------+------+-----+------+----------------+---------------+--------+---------------------+-------------+-------------+------------------+---------------+-------------------+-----------------+----------+----------------+--------------+\n",
      "\n"
     ]
    },
    {
     "name": "stderr",
     "output_type": "stream",
     "text": [
      "                                                                                \r"
     ]
    }
   ],
   "source": [
    "people_info.select([count(when(isnan(c) | col(c).isNull(), c)).alias(c) for c in people_info.columns]).show()"
   ]
  },
  {
   "cell_type": "code",
   "execution_count": 9,
   "metadata": {},
   "outputs": [],
   "source": [
    "incident_report = incident_report.fillna(value='UNKNOWN')\n",
    "people_info = people_info.fillna(value='UNKNOWN')"
   ]
  },
  {
   "cell_type": "code",
   "execution_count": 10,
   "metadata": {},
   "outputs": [
    {
     "name": "stderr",
     "output_type": "stream",
     "text": [
      "[Stage 10:=========>                                              (2 + 10) / 12]\r"
     ]
    },
    {
     "name": "stdout",
     "output_type": "stream",
     "text": [
      "+---------------+----------+------------------+----------------------+----------------+-----------------+------------------+----------------+---------------+--------+---------+--------------------+-----------+----------+----------------------+------------------+-------------+-----------------------+----------------------+---------+-----------+--------------+-----------------+--------------+--------------+-----------------------+---------------------------+-----------------------------+----------------------+----------------+----------+-----------------+-----------+\n",
      "|CRASH_RECORD_ID|CRASH_DATE|POSTED_SPEED_LIMIT|TRAFFIC_CONTROL_DEVICE|DEVICE_CONDITION|WEATHER_CONDITION|LIGHTING_CONDITION|FIRST_CRASH_TYPE|TRAFFICWAY_TYPE|LANE_CNT|ALIGNMENT|ROADWAY_SURFACE_COND|ROAD_DEFECT|CRASH_TYPE|INTERSECTION_RELATED_I|NOT_RIGHT_OF_WAY_I|HIT_AND_RUN_I|PRIM_CONTRIBUTORY_CAUSE|SEC_CONTRIBUTORY_CAUSE|DOORING_I|WORK_ZONE_I|WORK_ZONE_TYPE|WORKERS_PRESENT_I|INJURIES_TOTAL|INJURIES_FATAL|INJURIES_INCAPACITATING|INJURIES_NON_INCAPACITATING|INJURIES_REPORTED_NOT_EVIDENT|INJURIES_NO_INDICATION|INJURIES_UNKNOWN|CRASH_HOUR|CRASH_DAY_OF_WEEK|CRASH_MONTH|\n",
      "+---------------+----------+------------------+----------------------+----------------+-----------------+------------------+----------------+---------------+--------+---------+--------------------+-----------+----------+----------------------+------------------+-------------+-----------------------+----------------------+---------+-----------+--------------+-----------------+--------------+--------------+-----------------------+---------------------------+-----------------------------+----------------------+----------------+----------+-----------------+-----------+\n",
      "|              0|         0|                 0|                     0|               0|                0|                 0|               0|              0|       0|        0|                   0|          0|         0|                     0|                 0|            0|                      0|                     0|        0|          0|             0|                0|             0|             0|                      0|                          0|                            0|                     0|               0|         0|                0|          0|\n",
      "+---------------+----------+------------------+----------------------+----------------+-----------------+------------------+----------------+---------------+--------+---------+--------------------+-----------+----------+----------------------+------------------+-------------+-----------------------+----------------------+---------+-----------+--------------+-----------------+--------------+--------------+-----------------------+---------------------------+-----------------------------+----------------------+----------------+----------+-----------------+-----------+\n",
      "\n"
     ]
    },
    {
     "name": "stderr",
     "output_type": "stream",
     "text": [
      "                                                                                \r"
     ]
    }
   ],
   "source": [
    "incident_report.select([count(when(isnan(c) | col(c).isNull(), c)).alias(c) for c in incident_report.columns]).show()"
   ]
  },
  {
   "cell_type": "code",
   "execution_count": 11,
   "metadata": {},
   "outputs": [
    {
     "name": "stderr",
     "output_type": "stream",
     "text": [
      "[Stage 13:===================================================>    (11 + 1) / 12]\r"
     ]
    },
    {
     "name": "stdout",
     "output_type": "stream",
     "text": [
      "+---------+-----------+---------------+-----+---+---+----------------+---------------+--------+---------------------+-------------+-------------+------------------+---------------+-------------------+-----------------+----------+----------------+--------------+\n",
      "|PERSON_ID|PERSON_TYPE|CRASH_RECORD_ID|STATE|SEX|AGE|SAFETY_EQUIPMENT|AIRBAG_DEPLOYED|EJECTION|INJURY_CLASSIFICATION|DRIVER_ACTION|DRIVER_VISION|PHYSICAL_CONDITION|PEDPEDAL_ACTION|PEDPEDAL_VISIBILITY|PEDPEDAL_LOCATION|BAC_RESULT|BAC_RESULT VALUE|CELL_PHONE_USE|\n",
      "+---------+-----------+---------------+-----+---+---+----------------+---------------+--------+---------------------+-------------+-------------+------------------+---------------+-------------------+-----------------+----------+----------------+--------------+\n",
      "|        0|          0|              0|    0|  0|  0|               0|              0|       0|                    0|            0|            0|                 0|              0|                  0|                0|         0|               0|             0|\n",
      "+---------+-----------+---------------+-----+---+---+----------------+---------------+--------+---------------------+-------------+-------------+------------------+---------------+-------------------+-----------------+----------+----------------+--------------+\n",
      "\n"
     ]
    },
    {
     "name": "stderr",
     "output_type": "stream",
     "text": [
      "                                                                                \r"
     ]
    }
   ],
   "source": [
    "people_info.select([count(when(isnan(c) | col(c).isNull(), c)).alias(c) for c in people_info.columns]).show()"
   ]
  },
  {
   "cell_type": "code",
   "execution_count": 12,
   "metadata": {},
   "outputs": [
    {
     "name": "stderr",
     "output_type": "stream",
     "text": [
      "[Stage 20:>                                                       (0 + 12) / 13]\r"
     ]
    },
    {
     "name": "stdout",
     "output_type": "stream",
     "text": [
      "total rows: 1891040\n"
     ]
    },
    {
     "name": "stderr",
     "output_type": "stream",
     "text": [
      "                                                                                \r"
     ]
    }
   ],
   "source": [
    "join_df = incident_report.join(people_info, incident_report.CRASH_RECORD_ID == people_info.CRASH_RECORD_ID, how = 'inner')\n",
    "\n",
    "print('total rows:', join_df.count())"
   ]
  },
  {
   "cell_type": "code",
   "execution_count": 13,
   "metadata": {},
   "outputs": [
    {
     "name": "stderr",
     "output_type": "stream",
     "text": [
      "[Stage 29:===================================================>    (12 + 1) / 13]\r"
     ]
    },
    {
     "name": "stdout",
     "output_type": "stream",
     "text": [
      "total rows: 1891040\n"
     ]
    },
    {
     "name": "stderr",
     "output_type": "stream",
     "text": [
      "                                                                                \r"
     ]
    }
   ],
   "source": [
    "## drop duplicates\n",
    "join_df = join_df.drop_duplicates()\n",
    "print('total rows:', join_df.count())"
   ]
  },
  {
   "cell_type": "code",
   "execution_count": 14,
   "metadata": {},
   "outputs": [],
   "source": [
    "# join_df = join_df.drop('CRASH_RECORD_ID')"
   ]
  },
  {
   "cell_type": "markdown",
   "metadata": {},
   "source": [
    "## Save data to csv file"
   ]
  },
  {
   "cell_type": "code",
   "execution_count": 15,
   "metadata": {},
   "outputs": [
    {
     "name": "stderr",
     "output_type": "stream",
     "text": [
      "                                                                                \r"
     ]
    }
   ],
   "source": [
    "pandas_df = join_df.toPandas()\n",
    "pandas_df.to_csv(os.path.join(cleaned_data_dir,'cleaned_joined_data.csv'), index=False)"
   ]
  },
  {
   "cell_type": "code",
   "execution_count": 18,
   "metadata": {},
   "outputs": [
    {
     "name": "stderr",
     "output_type": "stream",
     "text": [
      "                                                                                \r"
     ]
    }
   ],
   "source": [
    "incident_report = incident_report.dropDuplicates()\n",
    "pandas_df = incident_report.toPandas()\n",
    "pandas_df.to_csv(os.path.join(cleaned_data_dir,'cleaned_incident_data.csv'), index=False)"
   ]
  },
  {
   "cell_type": "code",
   "execution_count": 19,
   "metadata": {},
   "outputs": [
    {
     "name": "stderr",
     "output_type": "stream",
     "text": [
      "                                                                                \r"
     ]
    }
   ],
   "source": [
    "people_info = people_info.dropDuplicates()\n",
    "pandas_df = people_info.toPandas()\n",
    "pandas_df.to_csv(os.path.join(cleaned_data_dir,'cleaned_person_data.csv'), index=False)"
   ]
  },
  {
   "cell_type": "code",
   "execution_count": null,
   "metadata": {},
   "outputs": [],
   "source": []
  }
 ],
 "metadata": {
  "kernelspec": {
   "display_name": "Python 3",
   "language": "python",
   "name": "python3"
  },
  "language_info": {
   "codemirror_mode": {
    "name": "ipython",
    "version": 3
   },
   "file_extension": ".py",
   "mimetype": "text/x-python",
   "name": "python",
   "nbconvert_exporter": "python",
   "pygments_lexer": "ipython3",
   "version": "3.9.19"
  }
 },
 "nbformat": 4,
 "nbformat_minor": 2
}
